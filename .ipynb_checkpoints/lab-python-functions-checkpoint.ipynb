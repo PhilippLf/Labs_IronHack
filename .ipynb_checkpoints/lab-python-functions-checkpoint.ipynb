{
 "cells": [
  {
   "cell_type": "markdown",
   "id": "25d7736c-ba17-4aff-b6bb-66eba20fbf4e",
   "metadata": {},
   "source": [
    "# Lab | Functions"
   ]
  },
  {
   "cell_type": "markdown",
   "id": "0c581062-8967-4d93-b06e-62833222f930",
   "metadata": {
    "tags": []
   },
   "source": [
    "## Exercise: Managing Customer Orders with Functions\n",
    "\n",
    "In the previous exercise, you improved the code for managing customer orders by using loops and flow control. Now, let's take it a step further and refactor the code by introducing functions.\n",
    "\n",
    "Follow the steps below to complete the exercise:\n",
    "\n",
    "1. Define a function named `initialize_inventory` that takes `products` as a parameter. Inside the function, implement the code for initializing the inventory dictionary using a loop and user input.\n",
    "\n",
    "2. Define a function named `get_customer_orders` that takes no parameters. Inside the function, implement the code for prompting the user to enter the product names using a loop. The function should return the `customer_orders` set.\n",
    "\n",
    "3. Define a function named `update_inventory` that takes `customer_orders` and `inventory` as parameters. Inside the function, implement the code for updating the inventory dictionary based on the customer orders.\n",
    "\n",
    "4. Define a function named `calculate_order_statistics` that takes `customer_orders` and `products` as parameters. Inside the function, implement the code for calculating the order statistics (total products ordered, and percentage of unique products ordered). The function should return these values.\n",
    "\n",
    "5. Define a function named `print_order_statistics` that takes `order_statistics` as a parameter. Inside the function, implement the code for printing the order statistics.\n",
    "\n",
    "6. Define a function named `print_updated_inventory` that takes `inventory` as a parameter. Inside the function, implement the code for printing the updated inventory.\n",
    "\n",
    "7. Call the functions in the appropriate sequence to execute the program and manage customer orders.\n",
    "\n",
    "Hints for functions:\n",
    "\n",
    "- Consider the input parameters required for each function and their return values.\n",
    "- Utilize function parameters and return values to transfer data between functions.\n",
    "- Test your functions individually to ensure they work correctly.\n",
    "\n",
    "\n"
   ]
  },
  {
   "cell_type": "code",
   "execution_count": 2,
   "id": "74bf9e85-9997-48b2-bb8d-0114195da281",
   "metadata": {
    "tags": []
   },
   "outputs": [],
   "source": [
    "# 1.\n",
    "\n",
    "def initialize_inventory(products):\n",
    "    \"\"\"\n",
    "    \"\"\"\n",
    "    inventory = {}\n",
    "    \n",
    "    for i in products:\n",
    "        quantity = input(f\"what is the quantity of {i}: \")\n",
    "        quantity = int(quantity)\n",
    "        inventory[i] = quantity\n",
    "        \n",
    "    return inventory"
   ]
  },
  {
   "cell_type": "code",
   "execution_count": 6,
   "id": "97555869-d4ca-451a-9862-96dd42f4d6fa",
   "metadata": {
    "tags": []
   },
   "outputs": [],
   "source": [
    "# 2.\n",
    "\n",
    "def get_customer_orders():\n",
    "    \"\"\"\n",
    "    \"\"\"\n",
    "    customer_orders = set()\n",
    "    \n",
    "    add_product = True\n",
    "    while add_product:\n",
    "        order = input('Enter a product the customer wants to order:')\n",
    "        if order in products:\n",
    "            customer_orders.add(order)\n",
    "        else:\n",
    "            print(\"you did not enter a valid item.\")\n",
    "        while True:\n",
    "            question = input('Do you want to add another product? (y/n)')\n",
    "            if question == 'y':\n",
    "                break\n",
    "            elif question == 'n':\n",
    "                add_product = False\n",
    "                break\n",
    "            else:\n",
    "                print(\"please enter 'y' or 'n'\")\n",
    "    \n",
    "    return customer_orders"
   ]
  },
  {
   "cell_type": "code",
   "execution_count": 7,
   "id": "85798ada-e797-4640-b06f-c0935988c993",
   "metadata": {
    "tags": []
   },
   "outputs": [],
   "source": [
    "# 3.\n",
    "\n",
    "def update_inventory(customer_orders, inventory):\n",
    "    \"\"\"\n",
    "    \"\"\"\n",
    "    for i in customer_orders:\n",
    "        inventory[i] = inventory[i] - 1"
   ]
  },
  {
   "cell_type": "code",
   "execution_count": 8,
   "id": "8c24bec3-ec6b-4ded-b194-060e00693c40",
   "metadata": {
    "tags": []
   },
   "outputs": [],
   "source": [
    "# 4.\n",
    "\n",
    "def calculate_order_statistics(customer_orders, products):\n",
    "    \"\"\"\n",
    "    \"\"\"\n",
    "    total_orders = len(customer_orders)\n",
    "    percentage_orders = total_orders/len(products)\n",
    "    order_status = (total_orders, percentage_orders)\n",
    "    return order_status"
   ]
  },
  {
   "cell_type": "code",
   "execution_count": 9,
   "id": "2666b5a6-34ff-4628-84d6-a22154a40079",
   "metadata": {
    "tags": []
   },
   "outputs": [],
   "source": [
    "# 5.\n",
    "\n",
    "def print_order_statistics(order_status):\n",
    "    \"\"\"\n",
    "    \"\"\"\n",
    "    print(f\"Order Statistics:\\nTotal Products Ordered: {order_status[0]}\\nPercentage of Unique Products Ordered: {order_status[1]:.00%}\")"
   ]
  },
  {
   "cell_type": "code",
   "execution_count": 10,
   "id": "53f3f944-0023-4e6c-9c45-958949b98c1a",
   "metadata": {
    "tags": []
   },
   "outputs": [],
   "source": [
    "# 6.\n",
    "\n",
    "def print_updated_inventory():\n",
    "    \"\"\"\n",
    "    \"\"\"\n",
    "    for i in customer_orders:\n",
    "        inventory[i] = inventory[i] - 1\n",
    "    \n",
    "    for key in inventory:\n",
    "        print(f\"The stock of {key} is {inventory[key]}\")"
   ]
  },
  {
   "cell_type": "code",
   "execution_count": 11,
   "id": "d3821bbd-0929-456a-9561-0574bbab0fc7",
   "metadata": {
    "tags": []
   },
   "outputs": [
    {
     "name": "stdin",
     "output_type": "stream",
     "text": [
      "what is the quantity of t-shirt:  4\n",
      "what is the quantity of mug:  3\n",
      "what is the quantity of hat:  2\n",
      "what is the quantity of book:  5\n",
      "what is the quantity of keychain:  6\n",
      "Enter a product the customer wants to order: sdgf\n"
     ]
    },
    {
     "name": "stdout",
     "output_type": "stream",
     "text": [
      "you did not enter a valid item.\n"
     ]
    },
    {
     "name": "stdin",
     "output_type": "stream",
     "text": [
      "Do you want to add another product? (y/n) y\n",
      "Enter a product the customer wants to order: t-shirt\n",
      "Do you want to add another product? (y/n) mug\n"
     ]
    },
    {
     "name": "stdout",
     "output_type": "stream",
     "text": [
      "please enter 'y' or 'n'\n"
     ]
    },
    {
     "name": "stdin",
     "output_type": "stream",
     "text": [
      "Do you want to add another product? (y/n) nnn\n"
     ]
    },
    {
     "name": "stdout",
     "output_type": "stream",
     "text": [
      "please enter 'y' or 'n'\n"
     ]
    },
    {
     "name": "stdin",
     "output_type": "stream",
     "text": [
      "Do you want to add another product? (y/n) n\n"
     ]
    },
    {
     "name": "stdout",
     "output_type": "stream",
     "text": [
      "Order Statistics:\n",
      "Total Products Ordered: 1\n",
      "Percentage of Unique Products Ordered: 20%\n",
      "The stock of t-shirt is 2\n",
      "The stock of mug is 3\n",
      "The stock of hat is 2\n",
      "The stock of book is 5\n",
      "The stock of keychain is 6\n"
     ]
    }
   ],
   "source": [
    "products = [\"t-shirt\", \"mug\", \"hat\", \"book\", \"keychain\"]\n",
    "\n",
    "inventory = initialize_inventory(products)\n",
    "\n",
    "customer_orders = get_customer_orders()\n",
    "\n",
    "update_inventory(customer_orders, inventory)\n",
    "\n",
    "order_status = calculate_order_statistics(customer_orders, products)\n",
    "\n",
    "print_order_statistics(order_status)\n",
    "\n",
    "print_updated_inventory()"
   ]
  },
  {
   "cell_type": "code",
   "execution_count": null,
   "id": "3b3df142-12ae-474e-93ee-6c40679718ad",
   "metadata": {},
   "outputs": [],
   "source": []
  }
 ],
 "metadata": {
  "kernelspec": {
   "display_name": "Python 3 (ipykernel)",
   "language": "python",
   "name": "python3"
  },
  "language_info": {
   "codemirror_mode": {
    "name": "ipython",
    "version": 3
   },
   "file_extension": ".py",
   "mimetype": "text/x-python",
   "name": "python",
   "nbconvert_exporter": "python",
   "pygments_lexer": "ipython3",
   "version": "3.9.17"
  }
 },
 "nbformat": 4,
 "nbformat_minor": 5
}
