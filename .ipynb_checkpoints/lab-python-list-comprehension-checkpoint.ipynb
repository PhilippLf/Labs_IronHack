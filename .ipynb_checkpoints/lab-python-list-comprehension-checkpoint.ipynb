{
 "cells": [
  {
   "cell_type": "markdown",
   "id": "25d7736c-ba17-4aff-b6bb-66eba20fbf4e",
   "metadata": {},
   "source": [
    "# Lab | List, Dict and Set Comprehension"
   ]
  },
  {
   "cell_type": "markdown",
   "id": "7dd3cbde-675a-4b81-92c3-f728846dbe06",
   "metadata": {},
   "source": [
    "## Exercise: Managing Customer Orders Optimized with Comprehension"
   ]
  },
  {
   "cell_type": "markdown",
   "id": "5d500160-2fb7-4777-b5e4-09d45ebaf328",
   "metadata": {},
   "source": [
    "calculate the total priceIn the previous exercise, you developed a program to manage customer orders and inventory. Now, let's take it a step further and incorporate comprehension into your code.\n",
    "\n",
    "Follow the steps below to complete the exercise:\n",
    "\n",
    "1. Review your code from the previous exercise and identify areas where you can apply comprehension to simplify and streamline your code. \n",
    "\n",
    "    - *Hint: Apply it to initialize inventory, updating the inventory and printing the updated inventory.*\n",
    "    \n",
    "    - For example, in initializing the inventory, we could have:\n",
    "    \n",
    "        ```python\n",
    "        def initialize_inventory(products):\n",
    "            inventory = {product: int(input(f\"Enter the quantity of {product}s available: \")) for product in products}\n",
    "            return inventory\n",
    "\n",
    "        ```\n",
    "<br>\n",
    "    \n",
    "    \n",
    "2. Modify the function get_customer_orders so it prompts the user to enter the number of customer orders and gathers the product names using a loop and user input. Use comprehension.\n",
    "\n",
    "3. Add a new function to calculate the total price of the customer order. For each product in customer_orders, prompt the user to enter the price of that product. Use comprehension to calculate the total price. Note: assume that the user can only have 1 unit of each product.\n",
    "\n",
    "4. Modify the update_inventory function to remove the product from the inventory if its quantity becomes zero after fulfilling the customer orders. Use comprehension to filter out the products with a quantity of zero from the inventory.\n",
    "\n",
    "5. Print the total price of the customer order.\n",
    "\n",
    "Your code should produce output similar to the following:\n",
    "\n",
    "```python\n",
    "Enter the quantity of t-shirts available:  5\n",
    "Enter the quantity of mugs available:  4\n",
    "Enter the quantity of hats available:  3\n",
    "Enter the quantity of books available:  2\n",
    "Enter the quantity of keychains available:  1\n",
    "Enter the number of customer orders:  2\n",
    "Enter the name of a product that a customer wants to order:  hat\n",
    "Enter the name of a product that a customer wants to order:  keychain\n",
    "\n",
    "Order Statistics:\n",
    "Total Products Ordered: 2\n",
    "Percentage of Unique Products Ordered: 40.0\n",
    "\n",
    "Updated Inventory:\n",
    "t-shirt: 5\n",
    "mug: 4\n",
    "hat: 2\n",
    "book: 2\n",
    "Enter the price of keychain:  5\n",
    "Enter the price of hat:  10\n",
    "Total Price: 15.0\n",
    "\n",
    "```\n"
   ]
  },
  {
   "cell_type": "code",
   "execution_count": 7,
   "id": "8fdf1467-c1ad-4e74-9585-a0fdf64af927",
   "metadata": {
    "tags": []
   },
   "outputs": [],
   "source": [
    "def initialize_inventory(products):\n",
    "    \"\"\"\n",
    "    \"\"\"\n",
    "    inventory = {key:int(input(f\"what is the quantity of {key}: \")) for key in products}\n",
    "        \n",
    "    return inventory"
   ]
  },
  {
   "cell_type": "code",
   "execution_count": 68,
   "id": "682fecdf-d247-4496-bcdf-9ac06ffd5a68",
   "metadata": {
    "tags": []
   },
   "outputs": [],
   "source": [
    "def get_customer_orders():\n",
    "    \"\"\"\n",
    "    \"\"\"\n",
    "    \"\"\"\n",
    "    while True:\n",
    "        try:\n",
    "            no_of_orders = int(input=('Enter the number of customer orders: '))\n",
    "            break\n",
    "        except:\n",
    "            print('please enter a valid number')\n",
    "            continue\n",
    "    \"\"\"\n",
    "    no_of_orders = int(input('Enter the number of customer orders: ')) \n",
    "    \n",
    "    customer_orders = {input('Enter the name of a product that a customer wants to order: ') for no in range(no_of_orders)} #if input('Enter the name of a product that a customer wants to order: ') in products}\n",
    "        \n",
    "    #customer_orders = {input('Enter the name of a product that a customer wants to order: ') for no in range(no_of_orders)} #if input('Enter the name of a product that a customer wants to order: ') in products}\n",
    "    \n",
    "    return customer_orders"
   ]
  },
  {
   "cell_type": "code",
   "execution_count": 83,
   "id": "204a3806-2923-4a8f-98a3-752013661ceb",
   "metadata": {
    "tags": []
   },
   "outputs": [],
   "source": [
    "def update_inventory(customer_orders, inventory):\n",
    "    \"\"\"\n",
    "    \"\"\"\n",
    "    inventory = {i:inventory[i]-1 if inventory[i]-1 > 0 else inventory.pop(i) for i in customer_orders}"
   ]
  },
  {
   "cell_type": "code",
   "execution_count": 18,
   "id": "523e4675-1f2b-48b9-9859-5157b566e620",
   "metadata": {
    "tags": []
   },
   "outputs": [],
   "source": [
    "def calculate_order_statistics(customer_orders, products):\n",
    "    \"\"\"\n",
    "    \"\"\"\n",
    "    total_orders = len(customer_orders)\n",
    "    percentage_orders = total_orders/len(products)\n",
    "    order_status = (total_orders, percentage_orders)\n",
    "    return order_status"
   ]
  },
  {
   "cell_type": "code",
   "execution_count": 19,
   "id": "0c7d0ad7-2c7f-4488-ba9f-c58fae8b079a",
   "metadata": {
    "tags": []
   },
   "outputs": [],
   "source": [
    "def print_order_statistics(order_status):\n",
    "    \"\"\"\n",
    "    \"\"\"\n",
    "    print(f\"Order Statistics:\\nTotal Products Ordered: {order_status[0]}\\nPercentage of Unique Products Ordered: {order_status[1]:.00%}\")"
   ]
  },
  {
   "cell_type": "code",
   "execution_count": 20,
   "id": "80b27457-8b30-4cd9-a9eb-696dffd3cd45",
   "metadata": {
    "tags": []
   },
   "outputs": [],
   "source": [
    "def print_updated_inventory():\n",
    "    \"\"\"\n",
    "    \"\"\"\n",
    "    for key in inventory:\n",
    "        print(f\"The stock of {key} is {inventory[key]}\")"
   ]
  },
  {
   "cell_type": "code",
   "execution_count": 73,
   "id": "36a317b8-9e0f-489e-8a0d-029c7c816432",
   "metadata": {
    "tags": []
   },
   "outputs": [],
   "source": [
    "def calculate_total_price(customer_orders):\n",
    "    price_list = [int(input(f'What is the price of {item}?')) for item in customer_orders]\n",
    "    \n",
    "    total_price = sum(price_list)\n",
    "    \n",
    "    return print('Total price:', total_price)"
   ]
  },
  {
   "cell_type": "code",
   "execution_count": 84,
   "id": "79ebce21-103b-499f-b182-5daf9c72cbd9",
   "metadata": {
    "tags": []
   },
   "outputs": [
    {
     "name": "stdin",
     "output_type": "stream",
     "text": [
      "what is the quantity of t-shirt:  1\n",
      "what is the quantity of mug:  1\n",
      "what is the quantity of hat:  1\n",
      "what is the quantity of book:  1\n",
      "what is the quantity of keychain:  1\n",
      "Enter the number of customer orders:  3\n",
      "Enter the name of a product that a customer wants to order:  mug\n",
      "Enter the name of a product that a customer wants to order:  hat\n",
      "Enter the name of a product that a customer wants to order:  keychain\n"
     ]
    },
    {
     "name": "stdout",
     "output_type": "stream",
     "text": [
      "Order Statistics:\n",
      "Total Products Ordered: 3\n",
      "Percentage of Unique Products Ordered: 60%\n",
      "The stock of t-shirt is 1\n",
      "The stock of book is 1\n"
     ]
    },
    {
     "name": "stdin",
     "output_type": "stream",
     "text": [
      "What is the price of keychain? 5\n",
      "What is the price of hat? 10\n",
      "What is the price of mug? 3\n"
     ]
    },
    {
     "name": "stdout",
     "output_type": "stream",
     "text": [
      "Total price: 18\n"
     ]
    }
   ],
   "source": [
    "products = [\"t-shirt\", \"mug\", \"hat\", \"book\", \"keychain\"]\n",
    "\n",
    "inventory = initialize_inventory(products)\n",
    "\n",
    "customer_orders = get_customer_orders()\n",
    "\n",
    "update_inventory(customer_orders, inventory)\n",
    "\n",
    "order_status = calculate_order_statistics(customer_orders, products)\n",
    "\n",
    "print_order_statistics(order_status)\n",
    "\n",
    "print_updated_inventory()\n",
    "\n",
    "calculate_total_price(customer_orders)"
   ]
  },
  {
   "cell_type": "code",
   "execution_count": 49,
   "id": "fc89749c-17b4-4fa5-8d7b-81b206afa842",
   "metadata": {
    "tags": []
   },
   "outputs": [],
   "source": [
    "#customer_orders = {order for order in products if input(f'do you want order {order}? (y/n)') == 'y'}"
   ]
  },
  {
   "cell_type": "code",
   "execution_count": null,
   "id": "207a2e74-63b3-4b5f-ad4a-d04e312022b8",
   "metadata": {},
   "outputs": [],
   "source": []
  }
 ],
 "metadata": {
  "kernelspec": {
   "display_name": "Python 3 (ipykernel)",
   "language": "python",
   "name": "python3"
  },
  "language_info": {
   "codemirror_mode": {
    "name": "ipython",
    "version": 3
   },
   "file_extension": ".py",
   "mimetype": "text/x-python",
   "name": "python",
   "nbconvert_exporter": "python",
   "pygments_lexer": "ipython3",
   "version": "3.9.17"
  }
 },
 "nbformat": 4,
 "nbformat_minor": 5
}
