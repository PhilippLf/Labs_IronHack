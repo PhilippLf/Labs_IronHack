{
 "cells": [
  {
   "cell_type": "code",
   "execution_count": 1,
   "id": "1466473e-cfbb-4c36-8458-2d35c7410b58",
   "metadata": {
    "tags": []
   },
   "outputs": [],
   "source": [
    "dict = {1:2, 2:0, 3:4, 4:0, 5:4}"
   ]
  },
  {
   "cell_type": "code",
   "execution_count": null,
   "id": "2432ab3a-8de2-4972-9506-48cdd2e35e52",
   "metadata": {},
   "outputs": [],
   "source": []
  }
 ],
 "metadata": {
  "kernelspec": {
   "display_name": "Python 3 (ipykernel)",
   "language": "python",
   "name": "python3"
  },
  "language_info": {
   "codemirror_mode": {
    "name": "ipython",
    "version": 3
   },
   "file_extension": ".py",
   "mimetype": "text/x-python",
   "name": "python",
   "nbconvert_exporter": "python",
   "pygments_lexer": "ipython3",
   "version": "3.9.17"
  }
 },
 "nbformat": 4,
 "nbformat_minor": 5
}
