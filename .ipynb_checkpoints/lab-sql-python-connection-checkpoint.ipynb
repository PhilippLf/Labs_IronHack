{
 "cells": [
  {
   "cell_type": "code",
   "execution_count": 1,
   "id": "0cd1e724-bff4-46f3-9c96-795e9053c04a",
   "metadata": {
    "tags": []
   },
   "outputs": [],
   "source": [
    "import pandas as pd\n",
    "import getpass\n",
    "import sqlalchemy as sa\n",
    "from sqlalchemy import create_engine"
   ]
  },
  {
   "cell_type": "code",
   "execution_count": 2,
   "id": "042d3cf7-6118-49de-b562-19adab78a1c8",
   "metadata": {
    "tags": []
   },
   "outputs": [
    {
     "name": "stdin",
     "output_type": "stream",
     "text": [
      "Your password: ········\n"
     ]
    }
   ],
   "source": [
    "# 1.\n",
    "\n",
    "driver = 'mysql+pymysql'\n",
    "user = 'root'\n",
    "password = getpass.getpass(prompt='Your password:'\"\")\n",
    "ip = '127.0.0.1'  "
   ]
  },
  {
   "cell_type": "code",
   "execution_count": 3,
   "id": "ef3ce157-16d2-409d-9eae-2fc3f741222d",
   "metadata": {
    "tags": []
   },
   "outputs": [],
   "source": [
    "connection_string = f'{driver}://{user}:{password}@{ip}'"
   ]
  },
  {
   "cell_type": "code",
   "execution_count": 4,
   "id": "6e665fec-f530-4525-a73a-0fe78f0d5196",
   "metadata": {
    "tags": []
   },
   "outputs": [],
   "source": [
    "db_connection = sa.create_engine(connection_string)"
   ]
  },
  {
   "cell_type": "code",
   "execution_count": 5,
   "id": "e00ea3e9-6d93-4d64-bb84-94f4a7f064d6",
   "metadata": {
    "tags": []
   },
   "outputs": [],
   "source": [
    "# 2.\n",
    "\n",
    "def rentals_month(month,year,engine):\n",
    "    \n",
    "    query = f'SELECT * FROM sakila.rental WHERE MONTH(rental_date) = {month} AND YEAR(rental_date) = {year};'\n",
    "    df = pd.read_sql_query(query, engine)\n",
    "    \n",
    "    return df"
   ]
  },
  {
   "cell_type": "code",
   "execution_count": 38,
   "id": "250938d3-9190-413b-aeb9-ebddb5b83935",
   "metadata": {
    "tags": []
   },
   "outputs": [],
   "source": [
    "df = rentals_month(5,2005,db_connection)"
   ]
  },
  {
   "cell_type": "code",
   "execution_count": 39,
   "id": "be840005-0702-4a56-823d-328af7808110",
   "metadata": {
    "tags": []
   },
   "outputs": [
    {
     "data": {
      "text/html": [
       "<div>\n",
       "<style scoped>\n",
       "    .dataframe tbody tr th:only-of-type {\n",
       "        vertical-align: middle;\n",
       "    }\n",
       "\n",
       "    .dataframe tbody tr th {\n",
       "        vertical-align: top;\n",
       "    }\n",
       "\n",
       "    .dataframe thead th {\n",
       "        text-align: right;\n",
       "    }\n",
       "</style>\n",
       "<table border=\"1\" class=\"dataframe\">\n",
       "  <thead>\n",
       "    <tr style=\"text-align: right;\">\n",
       "      <th></th>\n",
       "      <th>rental_id</th>\n",
       "      <th>rental_date</th>\n",
       "      <th>inventory_id</th>\n",
       "      <th>customer_id</th>\n",
       "      <th>return_date</th>\n",
       "      <th>staff_id</th>\n",
       "      <th>last_update</th>\n",
       "    </tr>\n",
       "  </thead>\n",
       "  <tbody>\n",
       "    <tr>\n",
       "      <th>0</th>\n",
       "      <td>1</td>\n",
       "      <td>2005-05-24 22:53:30</td>\n",
       "      <td>367</td>\n",
       "      <td>130</td>\n",
       "      <td>2005-05-26 22:04:30</td>\n",
       "      <td>1</td>\n",
       "      <td>2006-02-15 21:30:53</td>\n",
       "    </tr>\n",
       "    <tr>\n",
       "      <th>1</th>\n",
       "      <td>2</td>\n",
       "      <td>2005-05-24 22:54:33</td>\n",
       "      <td>1525</td>\n",
       "      <td>459</td>\n",
       "      <td>2005-05-28 19:40:33</td>\n",
       "      <td>1</td>\n",
       "      <td>2006-02-15 21:30:53</td>\n",
       "    </tr>\n",
       "    <tr>\n",
       "      <th>2</th>\n",
       "      <td>3</td>\n",
       "      <td>2005-05-24 23:03:39</td>\n",
       "      <td>1711</td>\n",
       "      <td>408</td>\n",
       "      <td>2005-06-01 22:12:39</td>\n",
       "      <td>1</td>\n",
       "      <td>2006-02-15 21:30:53</td>\n",
       "    </tr>\n",
       "    <tr>\n",
       "      <th>3</th>\n",
       "      <td>4</td>\n",
       "      <td>2005-05-24 23:04:41</td>\n",
       "      <td>2452</td>\n",
       "      <td>333</td>\n",
       "      <td>2005-06-03 01:43:41</td>\n",
       "      <td>2</td>\n",
       "      <td>2006-02-15 21:30:53</td>\n",
       "    </tr>\n",
       "    <tr>\n",
       "      <th>4</th>\n",
       "      <td>5</td>\n",
       "      <td>2005-05-24 23:05:21</td>\n",
       "      <td>2079</td>\n",
       "      <td>222</td>\n",
       "      <td>2005-06-02 04:33:21</td>\n",
       "      <td>1</td>\n",
       "      <td>2006-02-15 21:30:53</td>\n",
       "    </tr>\n",
       "    <tr>\n",
       "      <th>...</th>\n",
       "      <td>...</td>\n",
       "      <td>...</td>\n",
       "      <td>...</td>\n",
       "      <td>...</td>\n",
       "      <td>...</td>\n",
       "      <td>...</td>\n",
       "      <td>...</td>\n",
       "    </tr>\n",
       "    <tr>\n",
       "      <th>1151</th>\n",
       "      <td>1153</td>\n",
       "      <td>2005-05-31 21:36:44</td>\n",
       "      <td>2725</td>\n",
       "      <td>506</td>\n",
       "      <td>2005-06-10 01:26:44</td>\n",
       "      <td>2</td>\n",
       "      <td>2006-02-15 21:30:53</td>\n",
       "    </tr>\n",
       "    <tr>\n",
       "      <th>1152</th>\n",
       "      <td>1154</td>\n",
       "      <td>2005-05-31 21:42:09</td>\n",
       "      <td>2732</td>\n",
       "      <td>59</td>\n",
       "      <td>2005-06-08 16:40:09</td>\n",
       "      <td>1</td>\n",
       "      <td>2006-02-15 21:30:53</td>\n",
       "    </tr>\n",
       "    <tr>\n",
       "      <th>1153</th>\n",
       "      <td>1155</td>\n",
       "      <td>2005-05-31 22:17:11</td>\n",
       "      <td>2048</td>\n",
       "      <td>251</td>\n",
       "      <td>2005-06-04 20:27:11</td>\n",
       "      <td>2</td>\n",
       "      <td>2006-02-15 21:30:53</td>\n",
       "    </tr>\n",
       "    <tr>\n",
       "      <th>1154</th>\n",
       "      <td>1156</td>\n",
       "      <td>2005-05-31 22:37:34</td>\n",
       "      <td>460</td>\n",
       "      <td>106</td>\n",
       "      <td>2005-06-01 23:02:34</td>\n",
       "      <td>2</td>\n",
       "      <td>2006-02-15 21:30:53</td>\n",
       "    </tr>\n",
       "    <tr>\n",
       "      <th>1155</th>\n",
       "      <td>1157</td>\n",
       "      <td>2005-05-31 22:47:45</td>\n",
       "      <td>1449</td>\n",
       "      <td>61</td>\n",
       "      <td>2005-06-02 18:01:45</td>\n",
       "      <td>1</td>\n",
       "      <td>2006-02-15 21:30:53</td>\n",
       "    </tr>\n",
       "  </tbody>\n",
       "</table>\n",
       "<p>1156 rows × 7 columns</p>\n",
       "</div>"
      ],
      "text/plain": [
       "      rental_id         rental_date  inventory_id  customer_id  \\\n",
       "0             1 2005-05-24 22:53:30           367          130   \n",
       "1             2 2005-05-24 22:54:33          1525          459   \n",
       "2             3 2005-05-24 23:03:39          1711          408   \n",
       "3             4 2005-05-24 23:04:41          2452          333   \n",
       "4             5 2005-05-24 23:05:21          2079          222   \n",
       "...         ...                 ...           ...          ...   \n",
       "1151       1153 2005-05-31 21:36:44          2725          506   \n",
       "1152       1154 2005-05-31 21:42:09          2732           59   \n",
       "1153       1155 2005-05-31 22:17:11          2048          251   \n",
       "1154       1156 2005-05-31 22:37:34           460          106   \n",
       "1155       1157 2005-05-31 22:47:45          1449           61   \n",
       "\n",
       "             return_date  staff_id         last_update  \n",
       "0    2005-05-26 22:04:30         1 2006-02-15 21:30:53  \n",
       "1    2005-05-28 19:40:33         1 2006-02-15 21:30:53  \n",
       "2    2005-06-01 22:12:39         1 2006-02-15 21:30:53  \n",
       "3    2005-06-03 01:43:41         2 2006-02-15 21:30:53  \n",
       "4    2005-06-02 04:33:21         1 2006-02-15 21:30:53  \n",
       "...                  ...       ...                 ...  \n",
       "1151 2005-06-10 01:26:44         2 2006-02-15 21:30:53  \n",
       "1152 2005-06-08 16:40:09         1 2006-02-15 21:30:53  \n",
       "1153 2005-06-04 20:27:11         2 2006-02-15 21:30:53  \n",
       "1154 2005-06-01 23:02:34         2 2006-02-15 21:30:53  \n",
       "1155 2005-06-02 18:01:45         1 2006-02-15 21:30:53  \n",
       "\n",
       "[1156 rows x 7 columns]"
      ]
     },
     "execution_count": 39,
     "metadata": {},
     "output_type": "execute_result"
    }
   ],
   "source": [
    "df"
   ]
  },
  {
   "cell_type": "code",
   "execution_count": 16,
   "id": "a02f6ce5-51f3-4cf0-8359-dbcd48de4c8e",
   "metadata": {
    "tags": []
   },
   "outputs": [],
   "source": [
    "# 3.\n",
    "\n",
    "def rental_count_month(df):\n",
    "    \n",
    "    year = str(df['rental_date'].dt.year[0])\n",
    "    month = str(df['rental_date'].dt.month[0])\n",
    "    \n",
    "    df_customer = df.groupby(df['customer_id'])[['rental_id']].count()\n",
    "    df_customer = df_customer.rename(columns={\"rental_id\":f\"rentals_{month}_{year}\"})\n",
    "    \n",
    "    return df_customer"
   ]
  },
  {
   "cell_type": "code",
   "execution_count": 76,
   "id": "0b4a5860-c57f-4420-bf2b-8894b3c3b821",
   "metadata": {
    "tags": []
   },
   "outputs": [],
   "source": [
    "# 4.\n",
    "\n",
    "def compare_rentals(df1,df2):\n",
    "    \n",
    "    df = df1.join(df2,on='customer_id')\n",
    "    df = df.fillna(0)\n",
    "    df['diffrence'] = df.iloc[:,0] - df.iloc[:,1]\n",
    "    \n",
    "    return df"
   ]
  },
  {
   "cell_type": "code",
   "execution_count": 63,
   "id": "cbcd10a7-a176-4ad3-a442-9ebf54ede08d",
   "metadata": {},
   "outputs": [],
   "source": [
    "df_5 = rentals_month(5,2005,db_connection)"
   ]
  },
  {
   "cell_type": "code",
   "execution_count": 66,
   "id": "c7c36cde-0f87-43a5-95db-dd430a93d5a6",
   "metadata": {
    "tags": []
   },
   "outputs": [],
   "source": [
    "df_5 = rental_count_month(df_5)"
   ]
  },
  {
   "cell_type": "code",
   "execution_count": 64,
   "id": "88e0eb8c-90e8-418b-bbb6-049183a683a6",
   "metadata": {
    "tags": []
   },
   "outputs": [],
   "source": [
    "df_6 = rentals_month(6,2005,db_connection)"
   ]
  },
  {
   "cell_type": "code",
   "execution_count": 67,
   "id": "c5fbe57d-ce9f-442a-ac63-e17ef9e2a036",
   "metadata": {
    "tags": []
   },
   "outputs": [],
   "source": [
    "df_6 = rental_count_month(df_6)"
   ]
  },
  {
   "cell_type": "code",
   "execution_count": 78,
   "id": "d0564692-4eb9-4165-9472-991306bd8dfe",
   "metadata": {
    "tags": []
   },
   "outputs": [],
   "source": [
    "df = compare_rentals(df_5,df_6)"
   ]
  },
  {
   "cell_type": "code",
   "execution_count": 79,
   "id": "4ae92c02-64a9-40f5-94c4-378226afa2db",
   "metadata": {
    "tags": []
   },
   "outputs": [
    {
     "data": {
      "text/html": [
       "<div>\n",
       "<style scoped>\n",
       "    .dataframe tbody tr th:only-of-type {\n",
       "        vertical-align: middle;\n",
       "    }\n",
       "\n",
       "    .dataframe tbody tr th {\n",
       "        vertical-align: top;\n",
       "    }\n",
       "\n",
       "    .dataframe thead th {\n",
       "        text-align: right;\n",
       "    }\n",
       "</style>\n",
       "<table border=\"1\" class=\"dataframe\">\n",
       "  <thead>\n",
       "    <tr style=\"text-align: right;\">\n",
       "      <th></th>\n",
       "      <th>rentals_5_2005</th>\n",
       "      <th>rentals_6_2005</th>\n",
       "      <th>diffrence</th>\n",
       "    </tr>\n",
       "    <tr>\n",
       "      <th>customer_id</th>\n",
       "      <th></th>\n",
       "      <th></th>\n",
       "      <th></th>\n",
       "    </tr>\n",
       "  </thead>\n",
       "  <tbody>\n",
       "    <tr>\n",
       "      <th>1</th>\n",
       "      <td>2</td>\n",
       "      <td>7.0</td>\n",
       "      <td>-5.0</td>\n",
       "    </tr>\n",
       "    <tr>\n",
       "      <th>2</th>\n",
       "      <td>1</td>\n",
       "      <td>1.0</td>\n",
       "      <td>0.0</td>\n",
       "    </tr>\n",
       "    <tr>\n",
       "      <th>3</th>\n",
       "      <td>2</td>\n",
       "      <td>4.0</td>\n",
       "      <td>-2.0</td>\n",
       "    </tr>\n",
       "    <tr>\n",
       "      <th>5</th>\n",
       "      <td>3</td>\n",
       "      <td>5.0</td>\n",
       "      <td>-2.0</td>\n",
       "    </tr>\n",
       "    <tr>\n",
       "      <th>6</th>\n",
       "      <td>3</td>\n",
       "      <td>4.0</td>\n",
       "      <td>-1.0</td>\n",
       "    </tr>\n",
       "    <tr>\n",
       "      <th>...</th>\n",
       "      <td>...</td>\n",
       "      <td>...</td>\n",
       "      <td>...</td>\n",
       "    </tr>\n",
       "    <tr>\n",
       "      <th>594</th>\n",
       "      <td>4</td>\n",
       "      <td>6.0</td>\n",
       "      <td>-2.0</td>\n",
       "    </tr>\n",
       "    <tr>\n",
       "      <th>595</th>\n",
       "      <td>1</td>\n",
       "      <td>2.0</td>\n",
       "      <td>-1.0</td>\n",
       "    </tr>\n",
       "    <tr>\n",
       "      <th>596</th>\n",
       "      <td>6</td>\n",
       "      <td>2.0</td>\n",
       "      <td>4.0</td>\n",
       "    </tr>\n",
       "    <tr>\n",
       "      <th>597</th>\n",
       "      <td>2</td>\n",
       "      <td>3.0</td>\n",
       "      <td>-1.0</td>\n",
       "    </tr>\n",
       "    <tr>\n",
       "      <th>599</th>\n",
       "      <td>1</td>\n",
       "      <td>4.0</td>\n",
       "      <td>-3.0</td>\n",
       "    </tr>\n",
       "  </tbody>\n",
       "</table>\n",
       "<p>520 rows × 3 columns</p>\n",
       "</div>"
      ],
      "text/plain": [
       "             rentals_5_2005  rentals_6_2005  diffrence\n",
       "customer_id                                           \n",
       "1                         2             7.0       -5.0\n",
       "2                         1             1.0        0.0\n",
       "3                         2             4.0       -2.0\n",
       "5                         3             5.0       -2.0\n",
       "6                         3             4.0       -1.0\n",
       "...                     ...             ...        ...\n",
       "594                       4             6.0       -2.0\n",
       "595                       1             2.0       -1.0\n",
       "596                       6             2.0        4.0\n",
       "597                       2             3.0       -1.0\n",
       "599                       1             4.0       -3.0\n",
       "\n",
       "[520 rows x 3 columns]"
      ]
     },
     "execution_count": 79,
     "metadata": {},
     "output_type": "execute_result"
    }
   ],
   "source": [
    "df"
   ]
  }
 ],
 "metadata": {
  "kernelspec": {
   "display_name": "Python 3 (ipykernel)",
   "language": "python",
   "name": "python3"
  },
  "language_info": {
   "codemirror_mode": {
    "name": "ipython",
    "version": 3
   },
   "file_extension": ".py",
   "mimetype": "text/x-python",
   "name": "python",
   "nbconvert_exporter": "python",
   "pygments_lexer": "ipython3",
   "version": "3.9.17"
  }
 },
 "nbformat": 4,
 "nbformat_minor": 5
}
