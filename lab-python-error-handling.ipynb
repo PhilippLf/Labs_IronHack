{
 "cells": [
  {
   "cell_type": "markdown",
   "id": "25d7736c-ba17-4aff-b6bb-66eba20fbf4e",
   "metadata": {},
   "source": [
    "# Lab | Error Handling"
   ]
  },
  {
   "cell_type": "markdown",
   "id": "bc99b386-7508-47a0-bcdb-d969deaf6c8b",
   "metadata": {},
   "source": [
    "## Exercise: Error Handling for Managing Customer Orders\n",
    "\n",
    "The implementation of your code for managing customer orders assumes that the user will always enter a valid input. \n",
    "\n",
    "For example, we could modify the `initialize_inventory` function to include error handling.\n",
    "   - If the user enters an invalid quantity (e.g., a negative value or a non-numeric value), display an error message and ask them to re-enter the quantity for that product.\n",
    "   - Use a try-except block to handle the error and continue prompting the user until a valid quantity is entered.\n",
    "\n",
    "```python\n",
    "# Step 1: Define the function for initializing the inventory with error handling\n",
    "def initialize_inventory(products):\n",
    "    inventory = {}\n",
    "    for product in products:\n",
    "        valid_quantity = False\n",
    "        while not valid_quantity:\n",
    "            try:\n",
    "                quantity = int(input(f\"Enter the quantity of {product}s available: \"))\n",
    "                if quantity < 0:\n",
    "                    raise ValueError(\"Invalid quantity! Please enter a non-negative value.\")\n",
    "                valid_quantity = True\n",
    "            except ValueError as error:\n",
    "                print(f\"Error: {error}\")\n",
    "        inventory[product] = quantity\n",
    "    return inventory\n",
    "\n",
    "# Or, in another way:\n",
    "\n",
    "def initialize_inventory(products):\n",
    "    inventory = {}\n",
    "    for product in products:\n",
    "        valid_input = False\n",
    "        while not valid_input:\n",
    "            try:\n",
    "                quantity = int(input(f\"Enter the quantity of {product}s available: \"))\n",
    "                if quantity >= 0:\n",
    "                    inventory[product] = quantity\n",
    "                    valid_input = True\n",
    "                else:\n",
    "                    print(\"Quantity cannot be negative. Please enter a valid quantity.\")\n",
    "            except ValueError:\n",
    "                print(\"Invalid input. Please enter a valid quantity.\")\n",
    "    return inventory\n",
    "```\n",
    "\n",
    "Let's enhance your code by implementing error handling to handle invalid inputs.\n",
    "\n",
    "Follow the steps below to complete the exercise:\n",
    "\n",
    "2. Modify the `calculate_total_price` function to include error handling.\n",
    "   - If the user enters an invalid price (e.g., a negative value or a non-numeric value), display an error message and ask them to re-enter the price for that product.\n",
    "   - Use a try-except block to handle the error and continue prompting the user until a valid price is entered.\n",
    "\n",
    "3. Modify the `get_customer_orders` function to include error handling.\n",
    "   - If the user enters an invalid number of orders (e.g., a negative value or a non-numeric value), display an error message and ask them to re-enter the number of orders.\n",
    "   - If the user enters an invalid product name (e.g., a product name that is not in the inventory), or that doesn't have stock available, display an error message and ask them to re-enter the product name. *Hint: you will need to pass inventory as a parameter*\n",
    "   - Use a try-except block to handle the error and continue prompting the user until a valid product name is entered.\n",
    "\n",
    "4. Test your code by running the program and deliberately entering invalid quantities and product names. Make sure the error handling mechanism works as expected.\n"
   ]
  },
  {
   "cell_type": "code",
   "execution_count": 2,
   "id": "003c6d17-4885-4ef6-a3d8-f65721f16471",
   "metadata": {
    "tags": []
   },
   "outputs": [],
   "source": [
    "def initialize_inventory(products):\n",
    "    \"\"\"\n",
    "    \"\"\"\n",
    "    inventory = {}\n",
    "    for product in products:\n",
    "        valid_quantity = False\n",
    "        while not valid_quantity:\n",
    "            try:\n",
    "                quantity = int(input(f\"Enter the quantity of {product}s available: \"))\n",
    "                if quantity < 0:\n",
    "                    raise ValueError(\"Invalid quantity! Please enter a non-negative value.\")\n",
    "                valid_quantity = True\n",
    "            except ValueError as error:\n",
    "                print(f\"Error: {error}\")\n",
    "        inventory[product] = quantity\n",
    "    return inventory\n",
    "        "
   ]
  },
  {
   "cell_type": "code",
   "execution_count": 3,
   "id": "e9ea12cf-8802-44d2-a76a-b3435346a66c",
   "metadata": {
    "tags": []
   },
   "outputs": [],
   "source": [
    "# 3.\n",
    "\n",
    "def get_customer_orders(inventory):\n",
    "    \"\"\"\n",
    "    \"\"\"\n",
    "    customer_orders = set()\n",
    "    order_finished = False\n",
    "    while not order_finished:\n",
    "        try: # Check if the entered number is valid (no string or float)\n",
    "            no_of_orders = int(input('Enter the number of customer orders: '))\n",
    "            \n",
    "            # check if the entered number is negative\n",
    "            if no_of_orders < 0:\n",
    "                raise ValueError(\"Invalid price! Please enter a non-negative value.\")\n",
    "                \n",
    "            # check if the entered number is equal or smaller than the number of unique items    \n",
    "            if no_of_orders > len(inventory.keys()):\n",
    "                raise ValueError(\"The number of odered items has to smaller or equal to the number of unique items.\")\n",
    "                \n",
    "            # check if the entered number is equal or smaller than the number of unique items in stock (quantity in inventory > 0)  \n",
    "            if no_of_orders > len(inventory.keys()) - len([null for null in inventory.values() if null == 0]):\n",
    "                raise ValueError(\"The number of odered items has to smaller or equal to the number of unique items in stock.\")\n",
    "        except ValueError as error:\n",
    "            print(f'Error: {error}')\n",
    "            continue \n",
    "        else:\n",
    "            while True:\n",
    "                try:\n",
    "                    for no in range(no_of_orders):\n",
    "                        customer_order = input('Enter the name of a product that a customer wants to order: ')\n",
    "                        if customer_order not in inventory.keys() or inventory[customer_order] <= 0:\n",
    "                            raise ValueError(\"You did not enter an item, which is in stock!\")\n",
    "                        customer_orders.add(customer_order)\n",
    "                    order_finished = True\n",
    "                    break\n",
    "                except ValueError as error:\n",
    "                    print(f'Error: {error}')\n",
    "                    continue\n",
    "\n",
    "    return customer_orders"
   ]
  },
  {
   "cell_type": "code",
   "execution_count": 4,
   "id": "a6191687-641d-45d8-8340-7b01118723ed",
   "metadata": {
    "tags": []
   },
   "outputs": [],
   "source": [
    "def update_inventory(customer_orders, inventory):\n",
    "    \"\"\"\n",
    "    \"\"\"\n",
    "    inventory = {i:inventory[i]-1 if inventory[i]-1 > 0 else inventory.pop(i) for i in customer_orders}"
   ]
  },
  {
   "cell_type": "code",
   "execution_count": 5,
   "id": "31fd1a67-8289-4e85-93b0-1eb961c35c71",
   "metadata": {
    "tags": []
   },
   "outputs": [],
   "source": [
    "def calculate_order_statistics(customer_orders, products):\n",
    "    \"\"\"\n",
    "    \"\"\"\n",
    "    total_orders = len(customer_orders)\n",
    "    percentage_orders = total_orders/len(products)\n",
    "    order_status = (total_orders, percentage_orders)\n",
    "    return order_status"
   ]
  },
  {
   "cell_type": "code",
   "execution_count": 6,
   "id": "9e14e65e-60c8-4cac-b9ab-2d8452be5854",
   "metadata": {
    "tags": []
   },
   "outputs": [],
   "source": [
    "def print_order_statistics(order_status):\n",
    "    \"\"\"\n",
    "    \"\"\"\n",
    "    print(f\"\\nOrder Statistics:\\nTotal Products Ordered: {order_status[0]}\\nPercentage of Unique Products Ordered: {order_status[1]:.00%}\")"
   ]
  },
  {
   "cell_type": "code",
   "execution_count": 7,
   "id": "7f581588-1ab9-42e1-8094-8e988ab34b77",
   "metadata": {
    "tags": []
   },
   "outputs": [],
   "source": [
    "def print_updated_inventory():\n",
    "    \"\"\"\n",
    "    \"\"\"\n",
    "    #print(\"the printed inventory:\",inventory)\n",
    "    print(\"\\nUpdated Inventory:\")\n",
    "    for key in inventory:\n",
    "        print(f\"The stock of {key} is {inventory[key]}\")\n",
    "    print(\"\\n\")"
   ]
  },
  {
   "cell_type": "code",
   "execution_count": 8,
   "id": "168e828e-9583-46bc-b7c1-63eb4ae8e385",
   "metadata": {
    "tags": []
   },
   "outputs": [],
   "source": [
    "def calculate_total_price(customer_orders):\n",
    "    \"\"\"\n",
    "    \"\"\"\n",
    "    price_list = []\n",
    "    \n",
    "    for product in customer_orders:\n",
    "        valid_price = False\n",
    "        while not valid_price:\n",
    "            try:\n",
    "                price = int(input(f\"Enter the price of {product}s available: \"))\n",
    "                if price < 0:\n",
    "                    raise ValueError(\"Invalid price! Please enter a non-negative value.\")\n",
    "                valid_price = True\n",
    "            except ValueError as error:\n",
    "                print(f\"Error: {error}\")\n",
    "        price_list.append(price)\n",
    "    \n",
    "    total_price = sum(price_list)\n",
    "    \n",
    "    return print('Total price:', total_price)"
   ]
  },
  {
   "cell_type": "code",
   "execution_count": null,
   "id": "17b9d9c3-7d5f-4c3e-a8f9-8c90c0faa099",
   "metadata": {
    "tags": []
   },
   "outputs": [
    {
     "name": "stdin",
     "output_type": "stream",
     "text": [
      "Enter the quantity of t-shirts available:  4\n",
      "Enter the quantity of mugs available:  0\n",
      "Enter the quantity of hats available:  0\n",
      "Enter the quantity of books available:  1\n",
      "Enter the quantity of keychains available:  2\n",
      "Enter the number of customer orders:  4\n"
     ]
    },
    {
     "name": "stdout",
     "output_type": "stream",
     "text": [
      "Error: The number of odered items has to smaller or equal to the number of unique items in stock.\n"
     ]
    },
    {
     "name": "stdin",
     "output_type": "stream",
     "text": [
      "Enter the number of customer orders:  6\n"
     ]
    },
    {
     "name": "stdout",
     "output_type": "stream",
     "text": [
      "Error: The number of odered items has to smaller or equal to the number of unique items.\n"
     ]
    },
    {
     "name": "stdin",
     "output_type": "stream",
     "text": [
      "Enter the number of customer orders:  3\n",
      "Enter the name of a product that a customer wants to order:  mug\n"
     ]
    },
    {
     "name": "stdout",
     "output_type": "stream",
     "text": [
      "Error: You did not enter an item, which is in stock!\n"
     ]
    },
    {
     "name": "stdin",
     "output_type": "stream",
     "text": [
      "Enter the name of a product that a customer wants to order:  hat\n"
     ]
    },
    {
     "name": "stdout",
     "output_type": "stream",
     "text": [
      "Error: You did not enter an item, which is in stock!\n"
     ]
    },
    {
     "name": "stdin",
     "output_type": "stream",
     "text": [
      "Enter the name of a product that a customer wants to order:  t-shirt\n",
      "Enter the name of a product that a customer wants to order:  book\n",
      "Enter the name of a product that a customer wants to order:  keychain\n"
     ]
    },
    {
     "name": "stdout",
     "output_type": "stream",
     "text": [
      "\n",
      "Order Statistics:\n",
      "Total Products Ordered: 3\n",
      "Percentage of Unique Products Ordered: 60%\n",
      "\n",
      "Updated Inventory:\n",
      "The stock of t-shirt is 4\n",
      "The stock of mug is 0\n",
      "The stock of hat is 0\n",
      "The stock of keychain is 2\n",
      "\n",
      "\n"
     ]
    }
   ],
   "source": [
    "products = [\"t-shirt\", \"mug\", \"hat\", \"book\", \"keychain\"]\n",
    "\n",
    "inventory = initialize_inventory(products)\n",
    "\n",
    "customer_orders = get_customer_orders(inventory)\n",
    "\n",
    "update_inventory(customer_orders, inventory)\n",
    "\n",
    "order_status = calculate_order_statistics(customer_orders, products)\n",
    "\n",
    "print_order_statistics(order_status)\n",
    "\n",
    "print_updated_inventory()\n",
    "\n",
    "calculate_total_price(customer_orders)"
   ]
  },
  {
   "cell_type": "code",
   "execution_count": null,
   "id": "9ebe2f4a-ed55-4637-98a8-ce393b6b41a8",
   "metadata": {},
   "outputs": [],
   "source": []
  }
 ],
 "metadata": {
  "kernelspec": {
   "display_name": "Python 3 (ipykernel)",
   "language": "python",
   "name": "python3"
  },
  "language_info": {
   "codemirror_mode": {
    "name": "ipython",
    "version": 3
   },
   "file_extension": ".py",
   "mimetype": "text/x-python",
   "name": "python",
   "nbconvert_exporter": "python",
   "pygments_lexer": "ipython3",
   "version": "3.9.17"
  }
 },
 "nbformat": 4,
 "nbformat_minor": 5
}
