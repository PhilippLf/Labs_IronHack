{
 "cells": [
  {
   "cell_type": "markdown",
   "id": "25d7736c-ba17-4aff-b6bb-66eba20fbf4e",
   "metadata": {},
   "source": [
    "# Lab | List, Dict and Set Comprehension"
   ]
  },
  {
   "cell_type": "markdown",
   "id": "7dd3cbde-675a-4b81-92c3-f728846dbe06",
   "metadata": {},
   "source": [
    "## Exercise: Managing Customer Orders Optimized with Comprehension"
   ]
  },
  {
   "cell_type": "markdown",
   "id": "5d500160-2fb7-4777-b5e4-09d45ebaf328",
   "metadata": {},
   "source": [
    "calculate the total priceIn the previous exercise, you developed a program to manage customer orders and inventory. Now, let's take it a step further and incorporate comprehension into your code.\n",
    "\n",
    "Follow the steps below to complete the exercise:\n",
    "\n",
    "1. Review your code from the previous exercise and identify areas where you can apply comprehension to simplify and streamline your code. \n",
    "\n",
    "    - *Hint: Apply it to initialize inventory, updating the inventory and printing the updated inventory.*\n",
    "    \n",
    "    - For example, in initializing the inventory, we could have:\n",
    "    \n",
    "        ```python\n",
    "        def initialize_inventory(products):\n",
    "            inventory = {product: int(input(f\"Enter the quantity of {product}s available: \")) for product in products}\n",
    "            return inventory\n",
    "\n",
    "        ```\n",
    "<br>\n",
    "    \n",
    "    \n",
    "2. Modify the function get_customer_orders so it prompts the user to enter the number of customer orders and gathers the product names using a loop and user input. Use comprehension.\n",
    "\n",
    "3. Add a new function to calculate the total price of the customer order. For each product in customer_orders, prompt the user to enter the price of that product. Use comprehension to calculate the total price. Note: assume that the user can only have 1 unit of each product.\n",
    "\n",
    "4. Modify the update_inventory function to remove the product from the inventory if its quantity becomes zero after fulfilling the customer orders. Use comprehension to filter out the products with a quantity of zero from the inventory.\n",
    "\n",
    "5. Print the total price of the customer order.\n",
    "\n",
    "Your code should produce output similar to the following:\n",
    "\n",
    "```python\n",
    "Enter the quantity of t-shirts available:  5\n",
    "Enter the quantity of mugs available:  4\n",
    "Enter the quantity of hats available:  3\n",
    "Enter the quantity of books available:  2\n",
    "Enter the quantity of keychains available:  1\n",
    "Enter the number of customer orders:  2\n",
    "Enter the name of a product that a customer wants to order:  hat\n",
    "Enter the name of a product that a customer wants to order:  keychain\n",
    "\n",
    "Order Statistics:\n",
    "Total Products Ordered: 2\n",
    "Percentage of Unique Products Ordered: 40.0\n",
    "\n",
    "Updated Inventory:\n",
    "t-shirt: 5\n",
    "mug: 4\n",
    "hat: 2\n",
    "book: 2\n",
    "Enter the price of keychain:  5\n",
    "Enter the price of hat:  10\n",
    "Total Price: 15.0\n",
    "\n",
    "```\n"
   ]
  },
  {
   "cell_type": "code",
   "execution_count": 18,
   "id": "8fdf1467-c1ad-4e74-9585-a0fdf64af927",
   "metadata": {
    "tags": []
   },
   "outputs": [],
   "source": [
    "def initialize_inventory(products):\n",
    "    \"\"\"\n",
    "    \"\"\"\n",
    "    inventory = {key:int(input(f\"what is the quantity of {key}: \")) for key in products}\n",
    "        \n",
    "    return inventory"
   ]
  },
  {
   "cell_type": "code",
   "execution_count": 19,
   "id": "682fecdf-d247-4496-bcdf-9ac06ffd5a68",
   "metadata": {
    "tags": []
   },
   "outputs": [],
   "source": [
    "def get_customer_orders():\n",
    "    \"\"\"\n",
    "    \"\"\"\n",
    "    while True:\n",
    "        try: # Check if the entered number is valid (no string or float)\n",
    "            no_of_orders = int(input('Enter the number of customer orders: '))\n",
    "        except:\n",
    "            print('please enter a valid number')\n",
    "            continue \n",
    "        else:\n",
    "            if no_of_orders <= len(products): # Check if the entered number is equal or smaller than the number of unique items\n",
    "                customer_orders = {input('Enter the name of a product that a customer wants to order: ') for no in range(no_of_orders)}\n",
    "                wrong_order_list = [order for order in customer_orders if order not in products] # all entered items, which are not part of the range of products\n",
    "                for wrong_order in wrong_order_list:\n",
    "                    customer_orders.discard(wrong_order) # removing these items from the customer orders set\n",
    "                break\n",
    "            else:\n",
    "                print(\"The number of odered items has to smaller or equal to the number of unique items.\")\n",
    "                continue\n",
    "    \n",
    "    return customer_orders"
   ]
  },
  {
   "cell_type": "code",
   "execution_count": 20,
   "id": "204a3806-2923-4a8f-98a3-752013661ceb",
   "metadata": {
    "tags": []
   },
   "outputs": [],
   "source": [
    "def update_inventory(customer_orders, inventory):\n",
    "    \"\"\"\n",
    "    \"\"\"\n",
    "    inventory = {i:inventory[i]-1 if inventory[i]-1 > 0 else inventory.pop(i) for i in customer_orders}"
   ]
  },
  {
   "cell_type": "code",
   "execution_count": 21,
   "id": "523e4675-1f2b-48b9-9859-5157b566e620",
   "metadata": {
    "tags": []
   },
   "outputs": [],
   "source": [
    "def calculate_order_statistics(customer_orders, products):\n",
    "    \"\"\"\n",
    "    \"\"\"\n",
    "    total_orders = len(customer_orders)\n",
    "    percentage_orders = total_orders/len(products)\n",
    "    order_status = (total_orders, percentage_orders)\n",
    "    return order_status"
   ]
  },
  {
   "cell_type": "code",
   "execution_count": 22,
   "id": "0c7d0ad7-2c7f-4488-ba9f-c58fae8b079a",
   "metadata": {
    "tags": []
   },
   "outputs": [],
   "source": [
    "def print_order_statistics(order_status):\n",
    "    \"\"\"\n",
    "    \"\"\"\n",
    "    print(f\"\\nOrder Statistics:\\nTotal Products Ordered: {order_status[0]}\\nPercentage of Unique Products Ordered: {order_status[1]:.00%}\")"
   ]
  },
  {
   "cell_type": "code",
   "execution_count": 23,
   "id": "80b27457-8b30-4cd9-a9eb-696dffd3cd45",
   "metadata": {
    "tags": []
   },
   "outputs": [],
   "source": [
    "def print_updated_inventory():\n",
    "    \"\"\"\n",
    "    \"\"\"\n",
    "    print(\"\\nUpdated Inventory:\")\n",
    "    for key in inventory:\n",
    "        print(f\"The stock of {key} is {inventory[key]}\")\n",
    "    print(\"\\n\")"
   ]
  },
  {
   "cell_type": "code",
   "execution_count": 24,
   "id": "36a317b8-9e0f-489e-8a0d-029c7c816432",
   "metadata": {
    "tags": []
   },
   "outputs": [],
   "source": [
    "def calculate_total_price(customer_orders):\n",
    "    price_list = [int(input(f'What is the price of {item}?')) for item in customer_orders]\n",
    "    \n",
    "    total_price = sum(price_list)\n",
    "    \n",
    "    return print('Total price:', total_price)"
   ]
  },
  {
   "cell_type": "code",
   "execution_count": 25,
   "id": "79ebce21-103b-499f-b182-5daf9c72cbd9",
   "metadata": {
    "tags": []
   },
   "outputs": [
    {
     "name": "stdin",
     "output_type": "stream",
     "text": [
      "what is the quantity of t-shirt:  3\n",
      "what is the quantity of mug:  4\n",
      "what is the quantity of hat:  5\n",
      "what is the quantity of book:  1\n",
      "what is the quantity of keychain:  1\n",
      "Enter the number of customer orders:  3\n",
      "Enter the name of a product that a customer wants to order:  t-shirt\n",
      "Enter the name of a product that a customer wants to order:  hat\n",
      "Enter the name of a product that a customer wants to order:  book\n"
     ]
    },
    {
     "name": "stdout",
     "output_type": "stream",
     "text": [
      "\n",
      "Order Statistics:\n",
      "Total Products Ordered: 3\n",
      "Percentage of Unique Products Ordered: 60%\n",
      "\n",
      "Updated Inventory:\n",
      "The stock of t-shirt is 3\n",
      "The stock of mug is 4\n",
      "The stock of hat is 5\n",
      "The stock of keychain is 1\n",
      "\n",
      "\n"
     ]
    },
    {
     "name": "stdin",
     "output_type": "stream",
     "text": [
      "What is the price of t-shirt? 3\n",
      "What is the price of book? \n"
     ]
    },
    {
     "ename": "ValueError",
     "evalue": "invalid literal for int() with base 10: ''",
     "output_type": "error",
     "traceback": [
      "\u001b[0;31m---------------------------------------------------------------------------\u001b[0m",
      "\u001b[0;31mValueError\u001b[0m                                Traceback (most recent call last)",
      "Cell \u001b[0;32mIn[25], line 15\u001b[0m\n\u001b[1;32m     11\u001b[0m print_order_statistics(order_status)\n\u001b[1;32m     13\u001b[0m print_updated_inventory()\n\u001b[0;32m---> 15\u001b[0m \u001b[43mcalculate_total_price\u001b[49m\u001b[43m(\u001b[49m\u001b[43mcustomer_orders\u001b[49m\u001b[43m)\u001b[49m\n",
      "Cell \u001b[0;32mIn[24], line 2\u001b[0m, in \u001b[0;36mcalculate_total_price\u001b[0;34m(customer_orders)\u001b[0m\n\u001b[1;32m      1\u001b[0m \u001b[38;5;28;01mdef\u001b[39;00m \u001b[38;5;21mcalculate_total_price\u001b[39m(customer_orders):\n\u001b[0;32m----> 2\u001b[0m     price_list \u001b[38;5;241m=\u001b[39m [\u001b[38;5;28mint\u001b[39m(\u001b[38;5;28minput\u001b[39m(\u001b[38;5;124mf\u001b[39m\u001b[38;5;124m'\u001b[39m\u001b[38;5;124mWhat is the price of \u001b[39m\u001b[38;5;132;01m{\u001b[39;00mitem\u001b[38;5;132;01m}\u001b[39;00m\u001b[38;5;124m?\u001b[39m\u001b[38;5;124m'\u001b[39m)) \u001b[38;5;28;01mfor\u001b[39;00m item \u001b[38;5;129;01min\u001b[39;00m customer_orders]\n\u001b[1;32m      4\u001b[0m     total_price \u001b[38;5;241m=\u001b[39m \u001b[38;5;28msum\u001b[39m(price_list)\n\u001b[1;32m      6\u001b[0m     \u001b[38;5;28;01mreturn\u001b[39;00m \u001b[38;5;28mprint\u001b[39m(\u001b[38;5;124m'\u001b[39m\u001b[38;5;124mTotal price:\u001b[39m\u001b[38;5;124m'\u001b[39m, total_price)\n",
      "Cell \u001b[0;32mIn[24], line 2\u001b[0m, in \u001b[0;36m<listcomp>\u001b[0;34m(.0)\u001b[0m\n\u001b[1;32m      1\u001b[0m \u001b[38;5;28;01mdef\u001b[39;00m \u001b[38;5;21mcalculate_total_price\u001b[39m(customer_orders):\n\u001b[0;32m----> 2\u001b[0m     price_list \u001b[38;5;241m=\u001b[39m [\u001b[38;5;28;43mint\u001b[39;49m\u001b[43m(\u001b[49m\u001b[38;5;28;43minput\u001b[39;49m\u001b[43m(\u001b[49m\u001b[38;5;124;43mf\u001b[39;49m\u001b[38;5;124;43m'\u001b[39;49m\u001b[38;5;124;43mWhat is the price of \u001b[39;49m\u001b[38;5;132;43;01m{\u001b[39;49;00m\u001b[43mitem\u001b[49m\u001b[38;5;132;43;01m}\u001b[39;49;00m\u001b[38;5;124;43m?\u001b[39;49m\u001b[38;5;124;43m'\u001b[39;49m\u001b[43m)\u001b[49m\u001b[43m)\u001b[49m \u001b[38;5;28;01mfor\u001b[39;00m item \u001b[38;5;129;01min\u001b[39;00m customer_orders]\n\u001b[1;32m      4\u001b[0m     total_price \u001b[38;5;241m=\u001b[39m \u001b[38;5;28msum\u001b[39m(price_list)\n\u001b[1;32m      6\u001b[0m     \u001b[38;5;28;01mreturn\u001b[39;00m \u001b[38;5;28mprint\u001b[39m(\u001b[38;5;124m'\u001b[39m\u001b[38;5;124mTotal price:\u001b[39m\u001b[38;5;124m'\u001b[39m, total_price)\n",
      "\u001b[0;31mValueError\u001b[0m: invalid literal for int() with base 10: ''"
     ]
    }
   ],
   "source": [
    "products = [\"t-shirt\", \"mug\", \"hat\", \"book\", \"keychain\"]\n",
    "\n",
    "inventory = initialize_inventory(products)\n",
    "\n",
    "customer_orders = get_customer_orders()\n",
    "\n",
    "update_inventory(customer_orders, inventory)\n",
    "\n",
    "order_status = calculate_order_statistics(customer_orders, products)\n",
    "\n",
    "print_order_statistics(order_status)\n",
    "\n",
    "print_updated_inventory()\n",
    "\n",
    "calculate_total_price(customer_orders)"
   ]
  },
  {
   "cell_type": "code",
   "execution_count": null,
   "id": "3c82d6e2-9603-4eb1-8035-3ddf78e8a84f",
   "metadata": {},
   "outputs": [],
   "source": []
  }
 ],
 "metadata": {
  "kernelspec": {
   "display_name": "Python 3 (ipykernel)",
   "language": "python",
   "name": "python3"
  },
  "language_info": {
   "codemirror_mode": {
    "name": "ipython",
    "version": 3
   },
   "file_extension": ".py",
   "mimetype": "text/x-python",
   "name": "python",
   "nbconvert_exporter": "python",
   "pygments_lexer": "ipython3",
   "version": "3.9.17"
  }
 },
 "nbformat": 4,
 "nbformat_minor": 5
}
