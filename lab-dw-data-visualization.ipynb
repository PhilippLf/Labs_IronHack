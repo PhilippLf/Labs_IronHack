{
 "cells": [
  {
   "cell_type": "markdown",
   "id": "bcd3bcc3-be9a-4450-89be-8e4b07ee7f93",
   "metadata": {},
   "source": [
    "### Activity 3 (Wednesday)\n",
    "As a reminder the objective of this study is to predict the `total claim amount` of a customer and study/investigate the impact of the factors (input features) on the target variable(`total claim amount`). That means in your exploratory data analysis, you have to look for patterns in this data that show interesting relationships among the input features as well as with relation to the target feature.\n",
    "- Get the numeric data into a dataframe called `numerical` and categorical columns in a dataframe called `categorical`.\n",
    "(You can use \"np.number\" and \"object\" to select the numerical data types and categorical data types respectively)\n",
    "- Now we will try to check the normality of the numerical variables visually\n",
    "  - Use the Seaborn library to construct distribution plots for the numerical variables\n",
    "  - Use the Matplotlib library to construct histograms.\n",
    "  - Do the distributions for different numerical variables look like a normal distribution? \n",
    "- For the numerical variables, check for correlation between the input features. Note: this does not include the target feature.\n",
    "- Plot the Correlation Heatmap.\n",
    "- (Optional): Drop one of the two features that show a high correlation between them (greater than 0.9). If there is no pair of features that have a high correlation, then do not drop any features."
   ]
  },
  {
   "cell_type": "markdown",
   "id": "c795beda-ebb6-454f-ad3f-65dce2cc95e7",
   "metadata": {},
   "source": [
    "Useful functions for the lab\n",
    "- sns.pairplot()\n",
    "- pd.hist()\n",
    "- sns.displot()\n",
    "- plt.hist()\n",
    "- plt.bar"
   ]
  },
  {
   "cell_type": "code",
   "execution_count": 1,
   "id": "c2005106-b8b1-442b-90f8-f755bec52036",
   "metadata": {
    "tags": []
   },
   "outputs": [],
   "source": [
    "import pandas as pd\n",
    "import numpy as np\n",
    "import matplotlib.pyplot as plt\n",
    "import seaborn as sns\n",
    "%matplotlib inline"
   ]
  },
  {
   "cell_type": "code",
   "execution_count": 2,
   "id": "d618b587-426f-462d-99e3-dd0b26e701b8",
   "metadata": {
    "tags": []
   },
   "outputs": [],
   "source": [
    "df_base = pd.read_csv('Data_Marketing_Customer_Analysis_Round3.csv')"
   ]
  },
  {
   "cell_type": "code",
   "execution_count": null,
   "id": "2844d8c5-5093-436f-91ea-2afafc188b43",
   "metadata": {},
   "outputs": [],
   "source": []
  }
 ],
 "metadata": {
  "kernelspec": {
   "display_name": "Python 3 (ipykernel)",
   "language": "python",
   "name": "python3"
  },
  "language_info": {
   "codemirror_mode": {
    "name": "ipython",
    "version": 3
   },
   "file_extension": ".py",
   "mimetype": "text/x-python",
   "name": "python",
   "nbconvert_exporter": "python",
   "pygments_lexer": "ipython3",
   "version": "3.9.17"
  }
 },
 "nbformat": 4,
 "nbformat_minor": 5
}
