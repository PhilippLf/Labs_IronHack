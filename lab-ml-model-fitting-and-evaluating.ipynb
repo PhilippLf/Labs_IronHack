{
 "cells": [
  {
   "cell_type": "markdown",
   "id": "05f16959-fa24-41b6-a3c9-23ecc8c0baa7",
   "metadata": {},
   "source": [
    "# Lab: Model Fitting and Evaluating"
   ]
  },
  {
   "cell_type": "code",
   "execution_count": 1,
   "id": "e9441b10-371a-4efb-816a-14a371ce1261",
   "metadata": {
    "tags": []
   },
   "outputs": [],
   "source": [
    "import pandas as pd\n",
    "import numpy as np\n",
    "from sklearn.preprocessing import StandardScaler, MinMaxScaler, PowerTransformer\n",
    "import matplotlib.pyplot as plt\n",
    "import seaborn as sns\n",
    "%matplotlib inline"
   ]
  },
  {
   "cell_type": "code",
   "execution_count": 2,
   "id": "5873386d-b45c-4a28-ae0a-6342d87155d9",
   "metadata": {
    "tags": []
   },
   "outputs": [],
   "source": [
    "# Colour Palette\n",
    "sns.set_palette(\"PRGn\")"
   ]
  },
  {
   "cell_type": "code",
   "execution_count": 3,
   "id": "73c85806-de39-4d5f-985b-0b0420dcf21e",
   "metadata": {
    "tags": []
   },
   "outputs": [],
   "source": [
    "df = pd.read_csv('Data_Marketing_Customer_Analysis_Round3.csv')"
   ]
  },
  {
   "cell_type": "code",
   "execution_count": 4,
   "id": "5ff64c67-e69f-4126-9bb8-38573f62be33",
   "metadata": {
    "tags": []
   },
   "outputs": [
    {
     "data": {
      "text/html": [
       "<div>\n",
       "<style scoped>\n",
       "    .dataframe tbody tr th:only-of-type {\n",
       "        vertical-align: middle;\n",
       "    }\n",
       "\n",
       "    .dataframe tbody tr th {\n",
       "        vertical-align: top;\n",
       "    }\n",
       "\n",
       "    .dataframe thead th {\n",
       "        text-align: right;\n",
       "    }\n",
       "</style>\n",
       "<table border=\"1\" class=\"dataframe\">\n",
       "  <thead>\n",
       "    <tr style=\"text-align: right;\">\n",
       "      <th></th>\n",
       "      <th>region</th>\n",
       "      <th>customer_lifetime_value</th>\n",
       "      <th>response</th>\n",
       "      <th>coverage</th>\n",
       "      <th>education</th>\n",
       "      <th>effective_to_date</th>\n",
       "      <th>month</th>\n",
       "      <th>employment_status</th>\n",
       "      <th>gender</th>\n",
       "      <th>income</th>\n",
       "      <th>...</th>\n",
       "      <th>months_since_policy_inception</th>\n",
       "      <th>number_of_open_complaints</th>\n",
       "      <th>number_of_policies</th>\n",
       "      <th>policy_type</th>\n",
       "      <th>policy</th>\n",
       "      <th>renew_offer_type</th>\n",
       "      <th>sales_channel</th>\n",
       "      <th>total_claim_amount</th>\n",
       "      <th>vehicle_class</th>\n",
       "      <th>vehicle_size</th>\n",
       "    </tr>\n",
       "  </thead>\n",
       "  <tbody>\n",
       "    <tr>\n",
       "      <th>0</th>\n",
       "      <td>central</td>\n",
       "      <td>4809</td>\n",
       "      <td>no</td>\n",
       "      <td>basic</td>\n",
       "      <td>college</td>\n",
       "      <td>2/18/11</td>\n",
       "      <td>feb</td>\n",
       "      <td>employed</td>\n",
       "      <td>m</td>\n",
       "      <td>48029</td>\n",
       "      <td>...</td>\n",
       "      <td>52</td>\n",
       "      <td>0</td>\n",
       "      <td>9</td>\n",
       "      <td>corporate auto</td>\n",
       "      <td>corporate l3</td>\n",
       "      <td>offer3</td>\n",
       "      <td>agent</td>\n",
       "      <td>292</td>\n",
       "      <td>four-door car</td>\n",
       "      <td>medsize</td>\n",
       "    </tr>\n",
       "    <tr>\n",
       "      <th>1</th>\n",
       "      <td>west region</td>\n",
       "      <td>2228</td>\n",
       "      <td>no</td>\n",
       "      <td>basic</td>\n",
       "      <td>college</td>\n",
       "      <td>1/18/11</td>\n",
       "      <td>jan</td>\n",
       "      <td>unemployed</td>\n",
       "      <td>f</td>\n",
       "      <td>92260</td>\n",
       "      <td>...</td>\n",
       "      <td>26</td>\n",
       "      <td>0</td>\n",
       "      <td>1</td>\n",
       "      <td>personal auto</td>\n",
       "      <td>personal l3</td>\n",
       "      <td>offer4</td>\n",
       "      <td>call center</td>\n",
       "      <td>744</td>\n",
       "      <td>four-door car</td>\n",
       "      <td>medsize</td>\n",
       "    </tr>\n",
       "    <tr>\n",
       "      <th>2</th>\n",
       "      <td>east</td>\n",
       "      <td>14947</td>\n",
       "      <td>no</td>\n",
       "      <td>basic</td>\n",
       "      <td>bachelor</td>\n",
       "      <td>2/10/11</td>\n",
       "      <td>feb</td>\n",
       "      <td>employed</td>\n",
       "      <td>m</td>\n",
       "      <td>22139</td>\n",
       "      <td>...</td>\n",
       "      <td>31</td>\n",
       "      <td>0</td>\n",
       "      <td>2</td>\n",
       "      <td>personal auto</td>\n",
       "      <td>personal l3</td>\n",
       "      <td>offer3</td>\n",
       "      <td>call center</td>\n",
       "      <td>480</td>\n",
       "      <td>suv</td>\n",
       "      <td>medsize</td>\n",
       "    </tr>\n",
       "    <tr>\n",
       "      <th>3</th>\n",
       "      <td>north west</td>\n",
       "      <td>22332</td>\n",
       "      <td>yes</td>\n",
       "      <td>extended</td>\n",
       "      <td>college</td>\n",
       "      <td>1/11/11</td>\n",
       "      <td>jan</td>\n",
       "      <td>employed</td>\n",
       "      <td>m</td>\n",
       "      <td>49078</td>\n",
       "      <td>...</td>\n",
       "      <td>3</td>\n",
       "      <td>0</td>\n",
       "      <td>2</td>\n",
       "      <td>corporate auto</td>\n",
       "      <td>corporate l3</td>\n",
       "      <td>offer2</td>\n",
       "      <td>branch</td>\n",
       "      <td>484</td>\n",
       "      <td>four-door car</td>\n",
       "      <td>medsize</td>\n",
       "    </tr>\n",
       "    <tr>\n",
       "      <th>4</th>\n",
       "      <td>north west</td>\n",
       "      <td>9025</td>\n",
       "      <td>no</td>\n",
       "      <td>premium</td>\n",
       "      <td>bachelor</td>\n",
       "      <td>1/17/11</td>\n",
       "      <td>jan</td>\n",
       "      <td>medical leave</td>\n",
       "      <td>f</td>\n",
       "      <td>23675</td>\n",
       "      <td>...</td>\n",
       "      <td>31</td>\n",
       "      <td>0</td>\n",
       "      <td>7</td>\n",
       "      <td>personal auto</td>\n",
       "      <td>personal l2</td>\n",
       "      <td>offer1</td>\n",
       "      <td>branch</td>\n",
       "      <td>707</td>\n",
       "      <td>four-door car</td>\n",
       "      <td>medsize</td>\n",
       "    </tr>\n",
       "  </tbody>\n",
       "</table>\n",
       "<p>5 rows × 24 columns</p>\n",
       "</div>"
      ],
      "text/plain": [
       "        region  customer_lifetime_value response  coverage education  \\\n",
       "0      central                     4809       no     basic   college   \n",
       "1  west region                     2228       no     basic   college   \n",
       "2         east                    14947       no     basic  bachelor   \n",
       "3   north west                    22332      yes  extended   college   \n",
       "4   north west                     9025       no   premium  bachelor   \n",
       "\n",
       "  effective_to_date month employment_status gender  income  ...  \\\n",
       "0           2/18/11   feb          employed      m   48029  ...   \n",
       "1           1/18/11   jan        unemployed      f   92260  ...   \n",
       "2           2/10/11   feb          employed      m   22139  ...   \n",
       "3           1/11/11   jan          employed      m   49078  ...   \n",
       "4           1/17/11   jan     medical leave      f   23675  ...   \n",
       "\n",
       "  months_since_policy_inception number_of_open_complaints  number_of_policies  \\\n",
       "0                            52                         0                   9   \n",
       "1                            26                         0                   1   \n",
       "2                            31                         0                   2   \n",
       "3                             3                         0                   2   \n",
       "4                            31                         0                   7   \n",
       "\n",
       "      policy_type        policy  renew_offer_type  sales_channel  \\\n",
       "0  corporate auto  corporate l3            offer3          agent   \n",
       "1   personal auto   personal l3            offer4    call center   \n",
       "2   personal auto   personal l3            offer3    call center   \n",
       "3  corporate auto  corporate l3            offer2         branch   \n",
       "4   personal auto   personal l2            offer1         branch   \n",
       "\n",
       "  total_claim_amount  vehicle_class vehicle_size  \n",
       "0                292  four-door car      medsize  \n",
       "1                744  four-door car      medsize  \n",
       "2                480            suv      medsize  \n",
       "3                484  four-door car      medsize  \n",
       "4                707  four-door car      medsize  \n",
       "\n",
       "[5 rows x 24 columns]"
      ]
     },
     "execution_count": 4,
     "metadata": {},
     "output_type": "execute_result"
    }
   ],
   "source": [
    "df.head()"
   ]
  },
  {
   "cell_type": "code",
   "execution_count": 5,
   "id": "341cd6b2-bb42-4394-b615-dac66d204502",
   "metadata": {
    "tags": []
   },
   "outputs": [
    {
     "name": "stdout",
     "output_type": "stream",
     "text": [
      "<class 'pandas.core.frame.DataFrame'>\n",
      "RangeIndex: 10689 entries, 0 to 10688\n",
      "Data columns (total 24 columns):\n",
      " #   Column                         Non-Null Count  Dtype \n",
      "---  ------                         --------------  ----- \n",
      " 0   region                         10689 non-null  object\n",
      " 1   customer_lifetime_value        10689 non-null  int64 \n",
      " 2   response                       10689 non-null  object\n",
      " 3   coverage                       10689 non-null  object\n",
      " 4   education                      10689 non-null  object\n",
      " 5   effective_to_date              10689 non-null  object\n",
      " 6   month                          10689 non-null  object\n",
      " 7   employment_status              10689 non-null  object\n",
      " 8   gender                         10689 non-null  object\n",
      " 9   income                         10689 non-null  int64 \n",
      " 10  location_code                  10689 non-null  object\n",
      " 11  marital_status                 10689 non-null  object\n",
      " 12  monthly_premium_auto           10689 non-null  int64 \n",
      " 13  months_since_last_claim        10689 non-null  int64 \n",
      " 14  months_since_policy_inception  10689 non-null  int64 \n",
      " 15  number_of_open_complaints      10689 non-null  int64 \n",
      " 16  number_of_policies             10689 non-null  int64 \n",
      " 17  policy_type                    10689 non-null  object\n",
      " 18  policy                         10689 non-null  object\n",
      " 19  renew_offer_type               10689 non-null  object\n",
      " 20  sales_channel                  10689 non-null  object\n",
      " 21  total_claim_amount             10689 non-null  int64 \n",
      " 22  vehicle_class                  10689 non-null  object\n",
      " 23  vehicle_size                   10689 non-null  object\n",
      "dtypes: int64(8), object(16)\n",
      "memory usage: 2.0+ MB\n"
     ]
    }
   ],
   "source": [
    "df.info()"
   ]
  },
  {
   "cell_type": "markdown",
   "id": "7368f5a7-7d7f-43d9-8b44-bb920ea37a07",
   "metadata": {},
   "source": [
    "# Encoding for categorical features"
   ]
  },
  {
   "cell_type": "code",
   "execution_count": 6,
   "id": "02bc6b6b-e4bf-499e-bd5d-127d2ce008bf",
   "metadata": {
    "tags": []
   },
   "outputs": [],
   "source": [
    "categorical_df = df.select_dtypes(object)"
   ]
  },
  {
   "cell_type": "code",
   "execution_count": 7,
   "id": "adf67e1e-e153-49ae-86d1-e31a993b0b0a",
   "metadata": {
    "tags": []
   },
   "outputs": [],
   "source": [
    "categorical_df.drop('effective_to_date', axis=1, inplace=True)"
   ]
  },
  {
   "cell_type": "code",
   "execution_count": 8,
   "id": "85c534d4-db01-4bfe-b2ef-fa4f42faf15d",
   "metadata": {
    "tags": []
   },
   "outputs": [
    {
     "name": "stdout",
     "output_type": "stream",
     "text": [
      "<class 'pandas.core.frame.DataFrame'>\n",
      "RangeIndex: 10689 entries, 0 to 10688\n",
      "Data columns (total 15 columns):\n",
      " #   Column             Non-Null Count  Dtype \n",
      "---  ------             --------------  ----- \n",
      " 0   region             10689 non-null  object\n",
      " 1   response           10689 non-null  object\n",
      " 2   coverage           10689 non-null  object\n",
      " 3   education          10689 non-null  object\n",
      " 4   month              10689 non-null  object\n",
      " 5   employment_status  10689 non-null  object\n",
      " 6   gender             10689 non-null  object\n",
      " 7   location_code      10689 non-null  object\n",
      " 8   marital_status     10689 non-null  object\n",
      " 9   policy_type        10689 non-null  object\n",
      " 10  policy             10689 non-null  object\n",
      " 11  renew_offer_type   10689 non-null  object\n",
      " 12  sales_channel      10689 non-null  object\n",
      " 13  vehicle_class      10689 non-null  object\n",
      " 14  vehicle_size       10689 non-null  object\n",
      "dtypes: object(15)\n",
      "memory usage: 1.2+ MB\n"
     ]
    }
   ],
   "source": [
    "categorical_df.info()"
   ]
  },
  {
   "cell_type": "code",
   "execution_count": 9,
   "id": "00baf770-6153-4283-906b-634d33d8560f",
   "metadata": {
    "tags": []
   },
   "outputs": [
    {
     "data": {
      "text/plain": [
       "array(['four-door car', 'suv', 'two-door car', 'sports car', 'luxury car',\n",
       "       'luxury suv'], dtype=object)"
      ]
     },
     "execution_count": 9,
     "metadata": {},
     "output_type": "execute_result"
    }
   ],
   "source": [
    "categorical_df['vehicle_class'].unique()"
   ]
  },
  {
   "cell_type": "code",
   "execution_count": 10,
   "id": "d47f6745-3156-405d-b601-3d51b1258688",
   "metadata": {
    "tags": []
   },
   "outputs": [],
   "source": [
    "categorical_df.replace({'vehicle_class':{'luxury suv':'luxury car','sports car':'luxury car'}}, inplace=True)"
   ]
  },
  {
   "cell_type": "code",
   "execution_count": 11,
   "id": "c6676b0a-e5ea-44bf-a54c-433ada971ad9",
   "metadata": {
    "tags": []
   },
   "outputs": [
    {
     "data": {
      "text/plain": [
       "four-door car    5424\n",
       "two-door car     2185\n",
       "suv              2103\n",
       "luxury car        977\n",
       "Name: vehicle_class, dtype: int64"
      ]
     },
     "execution_count": 11,
     "metadata": {},
     "output_type": "execute_result"
    }
   ],
   "source": [
    "categorical_df['vehicle_class'].value_counts()"
   ]
  },
  {
   "cell_type": "code",
   "execution_count": 12,
   "id": "3abfa101-ac29-46d7-99a2-76672c4c512c",
   "metadata": {
    "tags": []
   },
   "outputs": [],
   "source": [
    "encoded_df = pd.get_dummies(categorical_df, columns=['gender','response'], drop_first=True)"
   ]
  },
  {
   "cell_type": "code",
   "execution_count": 13,
   "id": "26a7b98e-d31b-4f3d-91d4-b9de8442abb5",
   "metadata": {
    "tags": []
   },
   "outputs": [
    {
     "data": {
      "text/plain": [
       "array(['college', 'bachelor', 'high school or below', 'doctor', 'master'],\n",
       "      dtype=object)"
      ]
     },
     "execution_count": 13,
     "metadata": {},
     "output_type": "execute_result"
    }
   ],
   "source": [
    "encoded_df['education'].unique()"
   ]
  },
  {
   "cell_type": "code",
   "execution_count": 14,
   "id": "36bb308b-1e1b-4c8b-b2bf-16acc9145d92",
   "metadata": {
    "tags": []
   },
   "outputs": [],
   "source": [
    "encoded_df.replace({'education': {'high school or below':0, 'college':1, 'bachelor':2, 'master':3, 'doctor':4}}, inplace=True)"
   ]
  },
  {
   "cell_type": "code",
   "execution_count": 15,
   "id": "4faa1466-5e3f-4813-92d6-66b757144f4c",
   "metadata": {
    "tags": []
   },
   "outputs": [
    {
     "data": {
      "text/plain": [
       "array(['basic', 'extended', 'premium'], dtype=object)"
      ]
     },
     "execution_count": 15,
     "metadata": {},
     "output_type": "execute_result"
    }
   ],
   "source": [
    "encoded_df['coverage'].unique()"
   ]
  },
  {
   "cell_type": "code",
   "execution_count": 16,
   "id": "5465e4d0-7f2f-4595-af95-a6e16c968f27",
   "metadata": {
    "tags": []
   },
   "outputs": [],
   "source": [
    "encoded_df.replace({'coverage':{'basic':0,'extended':1,'premium':2}}, inplace=True)"
   ]
  },
  {
   "cell_type": "code",
   "execution_count": 17,
   "id": "6214b6f4-5625-48b9-ab1f-7e5ec7b73641",
   "metadata": {},
   "outputs": [
    {
     "data": {
      "text/plain": [
       "array(['medsize', 'small', 'large'], dtype=object)"
      ]
     },
     "execution_count": 17,
     "metadata": {},
     "output_type": "execute_result"
    }
   ],
   "source": [
    "encoded_df['vehicle_size'].unique()"
   ]
  },
  {
   "cell_type": "code",
   "execution_count": 18,
   "id": "d92eb57e-0584-4bf7-a597-f6370d635c03",
   "metadata": {},
   "outputs": [],
   "source": [
    "encoded_df.replace({'vehicle_size':{'small':1,'medsize':2,'large':3}}, inplace=True)"
   ]
  },
  {
   "cell_type": "code",
   "execution_count": 19,
   "id": "4ebeae2f-25a9-46ba-a623-1f5b58216e56",
   "metadata": {
    "tags": []
   },
   "outputs": [],
   "source": [
    "encoded_df = pd.get_dummies(encoded_df)"
   ]
  },
  {
   "cell_type": "code",
   "execution_count": 20,
   "id": "1d9a1870-7bf7-409a-8750-b3a69df54421",
   "metadata": {
    "tags": []
   },
   "outputs": [
    {
     "name": "stdout",
     "output_type": "stream",
     "text": [
      "<class 'pandas.core.frame.DataFrame'>\n",
      "RangeIndex: 10689 entries, 0 to 10688\n",
      "Data columns (total 46 columns):\n",
      " #   Column                           Non-Null Count  Dtype\n",
      "---  ------                           --------------  -----\n",
      " 0   coverage                         10689 non-null  int64\n",
      " 1   education                        10689 non-null  int64\n",
      " 2   vehicle_size                     10689 non-null  int64\n",
      " 3   gender_m                         10689 non-null  uint8\n",
      " 4   response_yes                     10689 non-null  uint8\n",
      " 5   region_central                   10689 non-null  uint8\n",
      " 6   region_east                      10689 non-null  uint8\n",
      " 7   region_north west                10689 non-null  uint8\n",
      " 8   region_west region               10689 non-null  uint8\n",
      " 9   month_feb                        10689 non-null  uint8\n",
      " 10  month_jan                        10689 non-null  uint8\n",
      " 11  employment_status_disabled       10689 non-null  uint8\n",
      " 12  employment_status_employed       10689 non-null  uint8\n",
      " 13  employment_status_medical leave  10689 non-null  uint8\n",
      " 14  employment_status_retired        10689 non-null  uint8\n",
      " 15  employment_status_unemployed     10689 non-null  uint8\n",
      " 16  location_code_rural              10689 non-null  uint8\n",
      " 17  location_code_suburban           10689 non-null  uint8\n",
      " 18  location_code_urban              10689 non-null  uint8\n",
      " 19  marital_status_divorced          10689 non-null  uint8\n",
      " 20  marital_status_married           10689 non-null  uint8\n",
      " 21  marital_status_single            10689 non-null  uint8\n",
      " 22  policy_type_corporate auto       10689 non-null  uint8\n",
      " 23  policy_type_personal auto        10689 non-null  uint8\n",
      " 24  policy_type_special auto         10689 non-null  uint8\n",
      " 25  policy_corporate l1              10689 non-null  uint8\n",
      " 26  policy_corporate l2              10689 non-null  uint8\n",
      " 27  policy_corporate l3              10689 non-null  uint8\n",
      " 28  policy_personal l1               10689 non-null  uint8\n",
      " 29  policy_personal l2               10689 non-null  uint8\n",
      " 30  policy_personal l3               10689 non-null  uint8\n",
      " 31  policy_special l1                10689 non-null  uint8\n",
      " 32  policy_special l2                10689 non-null  uint8\n",
      " 33  policy_special l3                10689 non-null  uint8\n",
      " 34  renew_offer_type_offer1          10689 non-null  uint8\n",
      " 35  renew_offer_type_offer2          10689 non-null  uint8\n",
      " 36  renew_offer_type_offer3          10689 non-null  uint8\n",
      " 37  renew_offer_type_offer4          10689 non-null  uint8\n",
      " 38  sales_channel_agent              10689 non-null  uint8\n",
      " 39  sales_channel_branch             10689 non-null  uint8\n",
      " 40  sales_channel_call center        10689 non-null  uint8\n",
      " 41  sales_channel_web                10689 non-null  uint8\n",
      " 42  vehicle_class_four-door car      10689 non-null  uint8\n",
      " 43  vehicle_class_luxury car         10689 non-null  uint8\n",
      " 44  vehicle_class_suv                10689 non-null  uint8\n",
      " 45  vehicle_class_two-door car       10689 non-null  uint8\n",
      "dtypes: int64(3), uint8(43)\n",
      "memory usage: 699.5 KB\n"
     ]
    }
   ],
   "source": [
    "encoded_df.info()"
   ]
  },
  {
   "cell_type": "code",
   "execution_count": 21,
   "id": "1a67af97-3470-41ee-84b4-1b5b2a21f47c",
   "metadata": {
    "tags": []
   },
   "outputs": [
    {
     "data": {
      "text/html": [
       "<div>\n",
       "<style scoped>\n",
       "    .dataframe tbody tr th:only-of-type {\n",
       "        vertical-align: middle;\n",
       "    }\n",
       "\n",
       "    .dataframe tbody tr th {\n",
       "        vertical-align: top;\n",
       "    }\n",
       "\n",
       "    .dataframe thead th {\n",
       "        text-align: right;\n",
       "    }\n",
       "</style>\n",
       "<table border=\"1\" class=\"dataframe\">\n",
       "  <thead>\n",
       "    <tr style=\"text-align: right;\">\n",
       "      <th></th>\n",
       "      <th>coverage</th>\n",
       "      <th>education</th>\n",
       "      <th>vehicle_size</th>\n",
       "      <th>gender_m</th>\n",
       "      <th>response_yes</th>\n",
       "      <th>region_central</th>\n",
       "      <th>region_east</th>\n",
       "      <th>region_north west</th>\n",
       "      <th>region_west region</th>\n",
       "      <th>month_feb</th>\n",
       "      <th>...</th>\n",
       "      <th>renew_offer_type_offer3</th>\n",
       "      <th>renew_offer_type_offer4</th>\n",
       "      <th>sales_channel_agent</th>\n",
       "      <th>sales_channel_branch</th>\n",
       "      <th>sales_channel_call center</th>\n",
       "      <th>sales_channel_web</th>\n",
       "      <th>vehicle_class_four-door car</th>\n",
       "      <th>vehicle_class_luxury car</th>\n",
       "      <th>vehicle_class_suv</th>\n",
       "      <th>vehicle_class_two-door car</th>\n",
       "    </tr>\n",
       "  </thead>\n",
       "  <tbody>\n",
       "    <tr>\n",
       "      <th>0</th>\n",
       "      <td>0</td>\n",
       "      <td>1</td>\n",
       "      <td>2</td>\n",
       "      <td>1</td>\n",
       "      <td>0</td>\n",
       "      <td>1</td>\n",
       "      <td>0</td>\n",
       "      <td>0</td>\n",
       "      <td>0</td>\n",
       "      <td>1</td>\n",
       "      <td>...</td>\n",
       "      <td>1</td>\n",
       "      <td>0</td>\n",
       "      <td>1</td>\n",
       "      <td>0</td>\n",
       "      <td>0</td>\n",
       "      <td>0</td>\n",
       "      <td>1</td>\n",
       "      <td>0</td>\n",
       "      <td>0</td>\n",
       "      <td>0</td>\n",
       "    </tr>\n",
       "    <tr>\n",
       "      <th>1</th>\n",
       "      <td>0</td>\n",
       "      <td>1</td>\n",
       "      <td>2</td>\n",
       "      <td>0</td>\n",
       "      <td>0</td>\n",
       "      <td>0</td>\n",
       "      <td>0</td>\n",
       "      <td>0</td>\n",
       "      <td>1</td>\n",
       "      <td>0</td>\n",
       "      <td>...</td>\n",
       "      <td>0</td>\n",
       "      <td>1</td>\n",
       "      <td>0</td>\n",
       "      <td>0</td>\n",
       "      <td>1</td>\n",
       "      <td>0</td>\n",
       "      <td>1</td>\n",
       "      <td>0</td>\n",
       "      <td>0</td>\n",
       "      <td>0</td>\n",
       "    </tr>\n",
       "    <tr>\n",
       "      <th>2</th>\n",
       "      <td>0</td>\n",
       "      <td>2</td>\n",
       "      <td>2</td>\n",
       "      <td>1</td>\n",
       "      <td>0</td>\n",
       "      <td>0</td>\n",
       "      <td>1</td>\n",
       "      <td>0</td>\n",
       "      <td>0</td>\n",
       "      <td>1</td>\n",
       "      <td>...</td>\n",
       "      <td>1</td>\n",
       "      <td>0</td>\n",
       "      <td>0</td>\n",
       "      <td>0</td>\n",
       "      <td>1</td>\n",
       "      <td>0</td>\n",
       "      <td>0</td>\n",
       "      <td>0</td>\n",
       "      <td>1</td>\n",
       "      <td>0</td>\n",
       "    </tr>\n",
       "    <tr>\n",
       "      <th>3</th>\n",
       "      <td>1</td>\n",
       "      <td>1</td>\n",
       "      <td>2</td>\n",
       "      <td>1</td>\n",
       "      <td>1</td>\n",
       "      <td>0</td>\n",
       "      <td>0</td>\n",
       "      <td>1</td>\n",
       "      <td>0</td>\n",
       "      <td>0</td>\n",
       "      <td>...</td>\n",
       "      <td>0</td>\n",
       "      <td>0</td>\n",
       "      <td>0</td>\n",
       "      <td>1</td>\n",
       "      <td>0</td>\n",
       "      <td>0</td>\n",
       "      <td>1</td>\n",
       "      <td>0</td>\n",
       "      <td>0</td>\n",
       "      <td>0</td>\n",
       "    </tr>\n",
       "    <tr>\n",
       "      <th>4</th>\n",
       "      <td>2</td>\n",
       "      <td>2</td>\n",
       "      <td>2</td>\n",
       "      <td>0</td>\n",
       "      <td>0</td>\n",
       "      <td>0</td>\n",
       "      <td>0</td>\n",
       "      <td>1</td>\n",
       "      <td>0</td>\n",
       "      <td>0</td>\n",
       "      <td>...</td>\n",
       "      <td>0</td>\n",
       "      <td>0</td>\n",
       "      <td>0</td>\n",
       "      <td>1</td>\n",
       "      <td>0</td>\n",
       "      <td>0</td>\n",
       "      <td>1</td>\n",
       "      <td>0</td>\n",
       "      <td>0</td>\n",
       "      <td>0</td>\n",
       "    </tr>\n",
       "  </tbody>\n",
       "</table>\n",
       "<p>5 rows × 46 columns</p>\n",
       "</div>"
      ],
      "text/plain": [
       "   coverage  education  vehicle_size  gender_m  response_yes  region_central  \\\n",
       "0         0          1             2         1             0               1   \n",
       "1         0          1             2         0             0               0   \n",
       "2         0          2             2         1             0               0   \n",
       "3         1          1             2         1             1               0   \n",
       "4         2          2             2         0             0               0   \n",
       "\n",
       "   region_east  region_north west  region_west region  month_feb  ...  \\\n",
       "0            0                  0                   0          1  ...   \n",
       "1            0                  0                   1          0  ...   \n",
       "2            1                  0                   0          1  ...   \n",
       "3            0                  1                   0          0  ...   \n",
       "4            0                  1                   0          0  ...   \n",
       "\n",
       "   renew_offer_type_offer3  renew_offer_type_offer4  sales_channel_agent  \\\n",
       "0                        1                        0                    1   \n",
       "1                        0                        1                    0   \n",
       "2                        1                        0                    0   \n",
       "3                        0                        0                    0   \n",
       "4                        0                        0                    0   \n",
       "\n",
       "   sales_channel_branch  sales_channel_call center  sales_channel_web  \\\n",
       "0                     0                          0                  0   \n",
       "1                     0                          1                  0   \n",
       "2                     0                          1                  0   \n",
       "3                     1                          0                  0   \n",
       "4                     1                          0                  0   \n",
       "\n",
       "   vehicle_class_four-door car  vehicle_class_luxury car  vehicle_class_suv  \\\n",
       "0                            1                         0                  0   \n",
       "1                            1                         0                  0   \n",
       "2                            0                         0                  1   \n",
       "3                            1                         0                  0   \n",
       "4                            1                         0                  0   \n",
       "\n",
       "   vehicle_class_two-door car  \n",
       "0                           0  \n",
       "1                           0  \n",
       "2                           0  \n",
       "3                           0  \n",
       "4                           0  \n",
       "\n",
       "[5 rows x 46 columns]"
      ]
     },
     "execution_count": 21,
     "metadata": {},
     "output_type": "execute_result"
    }
   ],
   "source": [
    "encoded_df.head()"
   ]
  },
  {
   "cell_type": "markdown",
   "id": "e9ee22b6-dbec-4e3a-bf2d-314fb206a8ad",
   "metadata": {},
   "source": [
    "# Looking into nummerical variables"
   ]
  },
  {
   "cell_type": "code",
   "execution_count": 22,
   "id": "b4ebed30-f5f1-48a0-87d2-51a6793453d0",
   "metadata": {
    "tags": []
   },
   "outputs": [],
   "source": [
    "numerical_df = df.select_dtypes(np.number)"
   ]
  },
  {
   "cell_type": "code",
   "execution_count": 23,
   "id": "c4edc09f-7bf8-4026-bc61-50a1bd2524df",
   "metadata": {
    "tags": []
   },
   "outputs": [
    {
     "data": {
      "text/plain": [
       "<Axes: >"
      ]
     },
     "execution_count": 23,
     "metadata": {},
     "output_type": "execute_result"
    },
    {
     "data": {
      "image/png": "[encoded data removed]",
      "text/plain": [
       "<Figure size 800x500 with 2 Axes>"
      ]
     },
     "metadata": {},
     "output_type": "display_data"
    }
   ],
   "source": [
    "corr = numerical_df.corr()\n",
    "matrix = np.triu(corr)\n",
    "mask = matrix\n",
    "\n",
    "fig = plt.figure(figsize=(8,5))\n",
    "sns.heatmap(corr, annot=True, mask=matrix)\n",
    "# mask recommend to hide upper triangle (doubled)"
   ]
  },
  {
   "cell_type": "markdown",
   "id": "b2c45558-bb5b-435b-a7e7-d39ebe2e58d8",
   "metadata": {},
   "source": [
    "➡️ No value with high correlation"
   ]
  },
  {
   "cell_type": "code",
   "execution_count": 24,
   "id": "300a6ccb-4aad-4925-bf0c-5fd9f8191949",
   "metadata": {
    "tags": []
   },
   "outputs": [
    {
     "data": {
      "text/plain": [
       "array([[<Axes: title={'center': 'customer_lifetime_value'}>,\n",
       "        <Axes: title={'center': 'income'}>,\n",
       "        <Axes: title={'center': 'monthly_premium_auto'}>],\n",
       "       [<Axes: title={'center': 'months_since_last_claim'}>,\n",
       "        <Axes: title={'center': 'months_since_policy_inception'}>,\n",
       "        <Axes: title={'center': 'number_of_open_complaints'}>],\n",
       "       [<Axes: title={'center': 'number_of_policies'}>,\n",
       "        <Axes: title={'center': 'total_claim_amount'}>, <Axes: >]],\n",
       "      dtype=object)"
      ]
     },
     "execution_count": 24,
     "metadata": {},
     "output_type": "execute_result"
    },
    {
     "data": {
      "image/png": "[encoded data removed]",
      "text/plain": [
       "<Figure size 1000x1500 with 9 Axes>"
      ]
     },
     "metadata": {},
     "output_type": "display_data"
    }
   ],
   "source": [
    "numerical_df.hist(figsize=(10,15), xrot=30)\n"
   ]
  },
  {
   "cell_type": "markdown",
   "id": "32fae432-6eb9-4f43-be58-aaaff1fecd7e",
   "metadata": {},
   "source": [
    "## X-y-Split"
   ]
  },
  {
   "cell_type": "code",
   "execution_count": 25,
   "id": "9a5213f8-5ace-40da-9302-28047c1bc152",
   "metadata": {
    "tags": []
   },
   "outputs": [
    {
     "name": "stdout",
     "output_type": "stream",
     "text": [
      "<class 'pandas.core.frame.DataFrame'>\n",
      "RangeIndex: 10689 entries, 0 to 10688\n",
      "Data columns (total 8 columns):\n",
      " #   Column                         Non-Null Count  Dtype\n",
      "---  ------                         --------------  -----\n",
      " 0   customer_lifetime_value        10689 non-null  int64\n",
      " 1   income                         10689 non-null  int64\n",
      " 2   monthly_premium_auto           10689 non-null  int64\n",
      " 3   months_since_last_claim        10689 non-null  int64\n",
      " 4   months_since_policy_inception  10689 non-null  int64\n",
      " 5   number_of_open_complaints      10689 non-null  int64\n",
      " 6   number_of_policies             10689 non-null  int64\n",
      " 7   total_claim_amount             10689 non-null  int64\n",
      "dtypes: int64(8)\n",
      "memory usage: 668.2 KB\n"
     ]
    }
   ],
   "source": [
    "numerical_df.info()"
   ]
  },
  {
   "cell_type": "code",
   "execution_count": 26,
   "id": "fd1bba17-3ff0-4282-9f1b-78f7f76f5e5f",
   "metadata": {},
   "outputs": [],
   "source": [
    "X_df = numerical_df.drop('total_claim_amount', axis=1)\n",
    "\n",
    "X = X_df\n",
    "y = numerical_df['total_claim_amount']"
   ]
  },
  {
   "cell_type": "markdown",
   "id": "d898e706-d81a-41ac-a3a2-91e1b3c9dc33",
   "metadata": {},
   "source": [
    "## Train Test Split"
   ]
  },
  {
   "cell_type": "code",
   "execution_count": 27,
   "id": "85665593-eb40-4675-9046-b647676f110c",
   "metadata": {
    "tags": []
   },
   "outputs": [],
   "source": [
    "from sklearn.model_selection import train_test_split\n",
    "\n",
    "X_train, X_test, y_train, y_test = train_test_split(X, y, test_size = 0.2, random_state = 42)"
   ]
  },
  {
   "cell_type": "markdown",
   "id": "15866537-c88b-43eb-a024-35269ecb3fe2",
   "metadata": {},
   "source": [
    "## Standardize the data (after the data split!)."
   ]
  },
  {
   "cell_type": "code",
   "execution_count": 28,
   "id": "f1820d36-67d0-4016-9502-4e75ddffc066",
   "metadata": {
    "tags": []
   },
   "outputs": [],
   "source": [
    "scaler = StandardScaler()\n",
    "\n",
    "scaler.fit(X_train)\n",
    "\n",
    "X_train_scaled = scaler.transform(X_train)\n"
   ]
  },
  {
   "cell_type": "markdown",
   "id": "70a645af-db54-4829-a2d9-aba97603fbd4",
   "metadata": {},
   "source": [
    "## Apply Linear Regression"
   ]
  },
  {
   "cell_type": "code",
   "execution_count": 29,
   "id": "d227eefe-76ae-4fef-bc1e-29f0979f6155",
   "metadata": {
    "tags": []
   },
   "outputs": [],
   "source": [
    "from sklearn.linear_model import LinearRegression\n",
    "\n",
    "lm = LinearRegression()\n",
    "\n",
    "model = lm.fit(X_train_scaled, y_train)"
   ]
  },
  {
   "cell_type": "markdown",
   "id": "83544160-f4f2-4450-bd0b-d66eece8762e",
   "metadata": {},
   "source": [
    "## Model Interpretation"
   ]
  },
  {
   "cell_type": "code",
   "execution_count": 30,
   "id": "3a87f956-f177-4362-87bd-d3a69cd362d2",
   "metadata": {
    "tags": []
   },
   "outputs": [],
   "source": [
    "X_test_scaled = scaler.transform(X_test)"
   ]
  },
  {
   "cell_type": "code",
   "execution_count": 31,
   "id": "daf69377-d671-4de1-829c-04fc2b96d0be",
   "metadata": {
    "tags": []
   },
   "outputs": [],
   "source": [
    "y_pred = model.predict(X_test_scaled)"
   ]
  },
  {
   "cell_type": "code",
   "execution_count": 32,
   "id": "e552efbb-d937-4c9b-aa30-4e16c42d81b2",
   "metadata": {
    "tags": []
   },
   "outputs": [],
   "source": [
    "residuals = np.array(y_test - y_pred)"
   ]
  },
  {
   "cell_type": "code",
   "execution_count": 33,
   "id": "853d0fe9-5321-4aa8-8dd3-37e0918f4b5c",
   "metadata": {
    "tags": []
   },
   "outputs": [],
   "source": [
    "res_df = pd.DataFrame({'y_test':y_test,'y_pred':y_pred,'residual':residuals})"
   ]
  },
  {
   "cell_type": "code",
   "execution_count": 34,
   "id": "07022af6-bd3f-4876-8c2b-cb6d941ddf0e",
   "metadata": {
    "tags": []
   },
   "outputs": [
    {
     "data": {
      "text/html": [
       "<div>\n",
       "<style scoped>\n",
       "    .dataframe tbody tr th:only-of-type {\n",
       "        vertical-align: middle;\n",
       "    }\n",
       "\n",
       "    .dataframe tbody tr th {\n",
       "        vertical-align: top;\n",
       "    }\n",
       "\n",
       "    .dataframe thead th {\n",
       "        text-align: right;\n",
       "    }\n",
       "</style>\n",
       "<table border=\"1\" class=\"dataframe\">\n",
       "  <thead>\n",
       "    <tr style=\"text-align: right;\">\n",
       "      <th></th>\n",
       "      <th>y_test</th>\n",
       "      <th>y_pred</th>\n",
       "      <th>residual</th>\n",
       "    </tr>\n",
       "  </thead>\n",
       "  <tbody>\n",
       "    <tr>\n",
       "      <th>3487</th>\n",
       "      <td>120</td>\n",
       "      <td>230.080624</td>\n",
       "      <td>-110.080624</td>\n",
       "    </tr>\n",
       "    <tr>\n",
       "      <th>668</th>\n",
       "      <td>660</td>\n",
       "      <td>559.062818</td>\n",
       "      <td>100.937182</td>\n",
       "    </tr>\n",
       "    <tr>\n",
       "      <th>10315</th>\n",
       "      <td>244</td>\n",
       "      <td>340.972244</td>\n",
       "      <td>-96.972244</td>\n",
       "    </tr>\n",
       "    <tr>\n",
       "      <th>5332</th>\n",
       "      <td>86</td>\n",
       "      <td>268.949617</td>\n",
       "      <td>-182.949617</td>\n",
       "    </tr>\n",
       "    <tr>\n",
       "      <th>1523</th>\n",
       "      <td>1032</td>\n",
       "      <td>1104.937431</td>\n",
       "      <td>-72.937431</td>\n",
       "    </tr>\n",
       "    <tr>\n",
       "      <th>...</th>\n",
       "      <td>...</td>\n",
       "      <td>...</td>\n",
       "      <td>...</td>\n",
       "    </tr>\n",
       "    <tr>\n",
       "      <th>7089</th>\n",
       "      <td>285</td>\n",
       "      <td>493.750706</td>\n",
       "      <td>-208.750706</td>\n",
       "    </tr>\n",
       "    <tr>\n",
       "      <th>2507</th>\n",
       "      <td>494</td>\n",
       "      <td>462.964323</td>\n",
       "      <td>31.035677</td>\n",
       "    </tr>\n",
       "    <tr>\n",
       "      <th>7965</th>\n",
       "      <td>537</td>\n",
       "      <td>490.612535</td>\n",
       "      <td>46.387465</td>\n",
       "    </tr>\n",
       "    <tr>\n",
       "      <th>8523</th>\n",
       "      <td>446</td>\n",
       "      <td>463.725456</td>\n",
       "      <td>-17.725456</td>\n",
       "    </tr>\n",
       "    <tr>\n",
       "      <th>9803</th>\n",
       "      <td>404</td>\n",
       "      <td>590.354901</td>\n",
       "      <td>-186.354901</td>\n",
       "    </tr>\n",
       "  </tbody>\n",
       "</table>\n",
       "<p>2138 rows × 3 columns</p>\n",
       "</div>"
      ],
      "text/plain": [
       "       y_test       y_pred    residual\n",
       "3487      120   230.080624 -110.080624\n",
       "668       660   559.062818  100.937182\n",
       "10315     244   340.972244  -96.972244\n",
       "5332       86   268.949617 -182.949617\n",
       "1523     1032  1104.937431  -72.937431\n",
       "...       ...          ...         ...\n",
       "7089      285   493.750706 -208.750706\n",
       "2507      494   462.964323   31.035677\n",
       "7965      537   490.612535   46.387465\n",
       "8523      446   463.725456  -17.725456\n",
       "9803      404   590.354901 -186.354901\n",
       "\n",
       "[2138 rows x 3 columns]"
      ]
     },
     "execution_count": 34,
     "metadata": {},
     "output_type": "execute_result"
    }
   ],
   "source": [
    "res_df"
   ]
  },
  {
   "cell_type": "code",
   "execution_count": 35,
   "id": "bbdf3edc-441c-4a6b-9787-8a1cc1ae043d",
   "metadata": {
    "tags": []
   },
   "outputs": [
    {
     "data": {
      "text/plain": [
       "[<matplotlib.lines.Line2D at 0x12db3f760>]"
      ]
     },
     "execution_count": 35,
     "metadata": {},
     "output_type": "execute_result"
    },
    {
     "data": {
      "image/png": "[encoded data removed]",
      "text/plain": [
       "<Figure size 1400x400 with 3 Axes>"
      ]
     },
     "metadata": {},
     "output_type": "display_data"
    }
   ],
   "source": [
    "# Make a scatterplot of y_pred vs y\n",
    "# Question: What kind of plot will you get if all the all the predictions are perfect?\n",
    "# Answer: A straight line!\n",
    "\n",
    "fig, ax = plt.subplots(1,3,figsize=(14,4))\n",
    "ax[0].plot(y_pred, y_test, 'o')\n",
    "ax[0].set_xlabel(\"y_test\")\n",
    "ax[0].set_ylabel(\"y_pred\")\n",
    "ax[0].set_title(\"Test Set -Predicted vs real\")\n",
    "\n",
    "# Get a histogram of the residuals ie: y - y_pred.  Homoscdasticity\n",
    "# It resembles a normal distribution?\n",
    "ax[1].hist(y_test - y_pred)\n",
    "ax[1].set_xlabel(\"Test y-y_pred\")\n",
    "ax[1].set_title(\"Test Set Residual histogram\")\n",
    "\n",
    "ax[2].plot(y_pred,y_pred-y_test,\"o\")\n",
    "ax[2].set_xlabel(\"predited\")\n",
    "ax[2].set_ylabel(\"residuals\")\n",
    "ax[2].set_title(\"Residuals by Predicted\")\n",
    "ax[2].plot(y_pred,np.zeros(len(y_pred)),linestyle='dashed')"
   ]
  },
  {
   "cell_type": "code",
   "execution_count": 36,
   "id": "0fc216ab-fb38-4c43-8714-4946bd140741",
   "metadata": {
    "tags": []
   },
   "outputs": [
    {
     "data": {
      "text/plain": [
       "<Axes: ylabel='total_claim_amount'>"
      ]
     },
     "execution_count": 36,
     "metadata": {},
     "output_type": "execute_result"
    },
    {
     "data": {
      "image/png": "[encoded data removed]",
      "text/plain": [
       "<Figure size 640x480 with 1 Axes>"
      ]
     },
     "metadata": {},
     "output_type": "display_data"
    }
   ],
   "source": [
    "yp_ = y_pred\n",
    "yt_ = y_test\n",
    "sns.regplot(x=yp_,y=yt_,scatter_kws={\"color\": \"red\"}, line_kws={\"color\": \"black\"})"
   ]
  },
  {
   "cell_type": "markdown",
   "id": "cd562fd4-a5a7-43b3-a98e-543a25933f69",
   "metadata": {},
   "source": [
    "## Error Metrics"
   ]
  },
  {
   "cell_type": "code",
   "execution_count": 37,
   "id": "6104fb7b-6425-4926-a72a-6c48a5dd77ee",
   "metadata": {
    "tags": []
   },
   "outputs": [],
   "source": [
    "from sklearn.metrics import mean_squared_error as mse"
   ]
  },
  {
   "cell_type": "code",
   "execution_count": 38,
   "id": "48944739-9ca3-40d7-9e56-0ae760185cd6",
   "metadata": {
    "tags": []
   },
   "outputs": [
    {
     "data": {
      "text/plain": [
       "48603.25525355552"
      ]
     },
     "execution_count": 38,
     "metadata": {},
     "output_type": "execute_result"
    }
   ],
   "source": [
    "mse(y_test,y_pred)"
   ]
  },
  {
   "cell_type": "code",
   "execution_count": 39,
   "id": "5923135a-8ddc-47da-ac99-cd169d811ee4",
   "metadata": {
    "tags": []
   },
   "outputs": [
    {
     "data": {
      "text/plain": [
       "220.4614597918546"
      ]
     },
     "execution_count": 39,
     "metadata": {},
     "output_type": "execute_result"
    }
   ],
   "source": [
    "np.sqrt(mse(y_test,y_pred))"
   ]
  },
  {
   "cell_type": "code",
   "execution_count": 40,
   "id": "90d83a4a-b617-467e-b4b6-d612edb09982",
   "metadata": {
    "tags": []
   },
   "outputs": [
    {
     "data": {
      "text/plain": [
       "434.22724296005237"
      ]
     },
     "execution_count": 40,
     "metadata": {},
     "output_type": "execute_result"
    }
   ],
   "source": [
    "numerical_df['total_claim_amount'].mean()"
   ]
  },
  {
   "cell_type": "code",
   "execution_count": 41,
   "id": "c0d045e5-41d7-46c8-b6c0-298d55c8d539",
   "metadata": {
    "tags": []
   },
   "outputs": [
    {
     "data": {
      "text/plain": [
       "[<matplotlib.lines.Line2D at 0x12dc8c3d0>]"
      ]
     },
     "execution_count": 41,
     "metadata": {},
     "output_type": "execute_result"
    },
    {
     "data": {
      "image/png": "[encoded data removed]",
      "text/plain": [
       "<Figure size 640x480 with 1 Axes>"
      ]
     },
     "metadata": {},
     "output_type": "display_data"
    }
   ],
   "source": [
    "plt.plot(y_test, y_pred, 'o')\n",
    "m, b = np.polyfit(y_test, y_pred, 1)\n",
    "plt.plot(y_test, m*y_test+b)"
   ]
  },
  {
   "cell_type": "code",
   "execution_count": 42,
   "id": "5330ef88-50e3-4eaf-91be-c0eba280c4b9",
   "metadata": {
    "tags": []
   },
   "outputs": [],
   "source": [
    "from sklearn.metrics import r2_score\n",
    "from sklearn.metrics import mean_absolute_error as mae"
   ]
  },
  {
   "cell_type": "code",
   "execution_count": 43,
   "id": "d078f209-931b-458c-8985-6e5ae1cea374",
   "metadata": {},
   "outputs": [
    {
     "name": "stdout",
     "output_type": "stream",
     "text": [
      "150.17517808486429\n"
     ]
    }
   ],
   "source": [
    "print(mae(y_test,y_pred))"
   ]
  },
  {
   "cell_type": "code",
   "execution_count": 44,
   "id": "a468d247-2b02-4880-a721-71254864c7af",
   "metadata": {
    "tags": []
   },
   "outputs": [
    {
     "data": {
      "text/plain": [
       "0.40127309153524027"
      ]
     },
     "execution_count": 44,
     "metadata": {},
     "output_type": "execute_result"
    }
   ],
   "source": [
    "R2=r2_score(y_test,y_pred)\n",
    "R2"
   ]
  },
  {
   "cell_type": "code",
   "execution_count": 45,
   "id": "c1c67d30-c510-401d-ab5e-e2b58d4662de",
   "metadata": {
    "tags": []
   },
   "outputs": [
    {
     "data": {
      "text/plain": [
       "0.3993054444182199"
      ]
     },
     "execution_count": 45,
     "metadata": {},
     "output_type": "execute_result"
    }
   ],
   "source": [
    "R2_test=model.score(X_test_scaled,y_test)\n",
    "R2_train=model.score(X_train_scaled,y_train)\n",
    "Adj_R2= 1 - (1-R2)*(len(y_test)-1)/(len(y_test)-X_test.shape[1]-1)\n",
    "Adj_R2"
   ]
  },
  {
   "cell_type": "markdown",
   "id": "00daed10-e789-4d20-8e8c-1a13dd7b7e60",
   "metadata": {},
   "source": [
    "## Feature Importances"
   ]
  },
  {
   "cell_type": "code",
   "execution_count": 46,
   "id": "6517b263-f68b-4b42-9051-a6194f48e6e6",
   "metadata": {
    "tags": []
   },
   "outputs": [
    {
     "data": {
      "text/html": [
       "<div>\n",
       "<style scoped>\n",
       "    .dataframe tbody tr th:only-of-type {\n",
       "        vertical-align: middle;\n",
       "    }\n",
       "\n",
       "    .dataframe tbody tr th {\n",
       "        vertical-align: top;\n",
       "    }\n",
       "\n",
       "    .dataframe thead th {\n",
       "        text-align: right;\n",
       "    }\n",
       "</style>\n",
       "<table border=\"1\" class=\"dataframe\">\n",
       "  <thead>\n",
       "    <tr style=\"text-align: right;\">\n",
       "      <th></th>\n",
       "      <th>Variable</th>\n",
       "      <th>Importance</th>\n",
       "    </tr>\n",
       "  </thead>\n",
       "  <tbody>\n",
       "    <tr>\n",
       "      <th>2</th>\n",
       "      <td>monthly_premium_auto</td>\n",
       "      <td>188.742534</td>\n",
       "    </tr>\n",
       "    <tr>\n",
       "      <th>1</th>\n",
       "      <td>income</td>\n",
       "      <td>33.567786</td>\n",
       "    </tr>\n",
       "    <tr>\n",
       "      <th>0</th>\n",
       "      <td>customer_lifetime_value</td>\n",
       "      <td>7.443740</td>\n",
       "    </tr>\n",
       "    <tr>\n",
       "      <th>4</th>\n",
       "      <td>months_since_policy_inception</td>\n",
       "      <td>3.003318</td>\n",
       "    </tr>\n",
       "    <tr>\n",
       "      <th>6</th>\n",
       "      <td>number_of_policies</td>\n",
       "      <td>2.407075</td>\n",
       "    </tr>\n",
       "    <tr>\n",
       "      <th>5</th>\n",
       "      <td>number_of_open_complaints</td>\n",
       "      <td>0.286639</td>\n",
       "    </tr>\n",
       "    <tr>\n",
       "      <th>3</th>\n",
       "      <td>months_since_last_claim</td>\n",
       "      <td>0.127913</td>\n",
       "    </tr>\n",
       "  </tbody>\n",
       "</table>\n",
       "</div>"
      ],
      "text/plain": [
       "                        Variable  Importance\n",
       "2           monthly_premium_auto  188.742534\n",
       "1                         income   33.567786\n",
       "0        customer_lifetime_value    7.443740\n",
       "4  months_since_policy_inception    3.003318\n",
       "6             number_of_policies    2.407075\n",
       "5      number_of_open_complaints    0.286639\n",
       "3        months_since_last_claim    0.127913"
      ]
     },
     "execution_count": 46,
     "metadata": {},
     "output_type": "execute_result"
    }
   ],
   "source": [
    "feature_importances = pd.DataFrame(data={\n",
    "    'Variable': X_train.columns,\n",
    "    'Importance': abs(model.coef_.reshape(len(X_train.columns),))\n",
    "})\n",
    "feature_importances = feature_importances.sort_values(by='Importance', ascending=False)\n",
    "feature_importances"
   ]
  },
  {
   "cell_type": "code",
   "execution_count": 47,
   "id": "22c452b1-4ab1-4041-8b3f-97d7cf15b1b7",
   "metadata": {
    "tags": []
   },
   "outputs": [
    {
     "data": {
      "image/png": "[encoded data removed]",
      "text/plain": [
       "<Figure size 640x480 with 1 Axes>"
      ]
     },
     "metadata": {},
     "output_type": "display_data"
    }
   ],
   "source": [
    "plt.bar(x=feature_importances['Variable'].iloc[:10], height=feature_importances['Importance'].iloc[:10], color='#087E8B')\n",
    "plt.title('Feature importance rankings', size=12)\n",
    "plt.xticks(rotation=90)\n",
    "plt.show()"
   ]
  },
  {
   "cell_type": "markdown",
   "id": "3623fcd6-ace4-4627-bb6d-a4f01e3baadb",
   "metadata": {},
   "source": [
    "## Include categorical Columns"
   ]
  },
  {
   "cell_type": "code",
   "execution_count": 48,
   "id": "7ff2afd9-d9cb-4c3c-ac70-44512429897d",
   "metadata": {
    "tags": []
   },
   "outputs": [
    {
     "name": "stdout",
     "output_type": "stream",
     "text": [
      "<class 'pandas.core.frame.DataFrame'>\n",
      "RangeIndex: 10689 entries, 0 to 10688\n",
      "Data columns (total 8 columns):\n",
      " #   Column                         Non-Null Count  Dtype\n",
      "---  ------                         --------------  -----\n",
      " 0   customer_lifetime_value        10689 non-null  int64\n",
      " 1   income                         10689 non-null  int64\n",
      " 2   monthly_premium_auto           10689 non-null  int64\n",
      " 3   months_since_last_claim        10689 non-null  int64\n",
      " 4   months_since_policy_inception  10689 non-null  int64\n",
      " 5   number_of_open_complaints      10689 non-null  int64\n",
      " 6   number_of_policies             10689 non-null  int64\n",
      " 7   total_claim_amount             10689 non-null  int64\n",
      "dtypes: int64(8)\n",
      "memory usage: 668.2 KB\n"
     ]
    }
   ],
   "source": [
    "numerical_df.info()"
   ]
  },
  {
   "cell_type": "code",
   "execution_count": 49,
   "id": "e55e61a8-b937-4a47-b29a-55b7c1dd79a7",
   "metadata": {
    "tags": []
   },
   "outputs": [
    {
     "name": "stdout",
     "output_type": "stream",
     "text": [
      "<class 'pandas.core.frame.DataFrame'>\n",
      "RangeIndex: 10689 entries, 0 to 10688\n",
      "Data columns (total 46 columns):\n",
      " #   Column                           Non-Null Count  Dtype\n",
      "---  ------                           --------------  -----\n",
      " 0   coverage                         10689 non-null  int64\n",
      " 1   education                        10689 non-null  int64\n",
      " 2   vehicle_size                     10689 non-null  int64\n",
      " 3   gender_m                         10689 non-null  uint8\n",
      " 4   response_yes                     10689 non-null  uint8\n",
      " 5   region_central                   10689 non-null  uint8\n",
      " 6   region_east                      10689 non-null  uint8\n",
      " 7   region_north west                10689 non-null  uint8\n",
      " 8   region_west region               10689 non-null  uint8\n",
      " 9   month_feb                        10689 non-null  uint8\n",
      " 10  month_jan                        10689 non-null  uint8\n",
      " 11  employment_status_disabled       10689 non-null  uint8\n",
      " 12  employment_status_employed       10689 non-null  uint8\n",
      " 13  employment_status_medical leave  10689 non-null  uint8\n",
      " 14  employment_status_retired        10689 non-null  uint8\n",
      " 15  employment_status_unemployed     10689 non-null  uint8\n",
      " 16  location_code_rural              10689 non-null  uint8\n",
      " 17  location_code_suburban           10689 non-null  uint8\n",
      " 18  location_code_urban              10689 non-null  uint8\n",
      " 19  marital_status_divorced          10689 non-null  uint8\n",
      " 20  marital_status_married           10689 non-null  uint8\n",
      " 21  marital_status_single            10689 non-null  uint8\n",
      " 22  policy_type_corporate auto       10689 non-null  uint8\n",
      " 23  policy_type_personal auto        10689 non-null  uint8\n",
      " 24  policy_type_special auto         10689 non-null  uint8\n",
      " 25  policy_corporate l1              10689 non-null  uint8\n",
      " 26  policy_corporate l2              10689 non-null  uint8\n",
      " 27  policy_corporate l3              10689 non-null  uint8\n",
      " 28  policy_personal l1               10689 non-null  uint8\n",
      " 29  policy_personal l2               10689 non-null  uint8\n",
      " 30  policy_personal l3               10689 non-null  uint8\n",
      " 31  policy_special l1                10689 non-null  uint8\n",
      " 32  policy_special l2                10689 non-null  uint8\n",
      " 33  policy_special l3                10689 non-null  uint8\n",
      " 34  renew_offer_type_offer1          10689 non-null  uint8\n",
      " 35  renew_offer_type_offer2          10689 non-null  uint8\n",
      " 36  renew_offer_type_offer3          10689 non-null  uint8\n",
      " 37  renew_offer_type_offer4          10689 non-null  uint8\n",
      " 38  sales_channel_agent              10689 non-null  uint8\n",
      " 39  sales_channel_branch             10689 non-null  uint8\n",
      " 40  sales_channel_call center        10689 non-null  uint8\n",
      " 41  sales_channel_web                10689 non-null  uint8\n",
      " 42  vehicle_class_four-door car      10689 non-null  uint8\n",
      " 43  vehicle_class_luxury car         10689 non-null  uint8\n",
      " 44  vehicle_class_suv                10689 non-null  uint8\n",
      " 45  vehicle_class_two-door car       10689 non-null  uint8\n",
      "dtypes: int64(3), uint8(43)\n",
      "memory usage: 699.5 KB\n"
     ]
    }
   ],
   "source": [
    "encoded_df.info()"
   ]
  },
  {
   "cell_type": "code",
   "execution_count": 50,
   "id": "c3596530-142f-454e-8c8d-fbd0dc0b0636",
   "metadata": {
    "tags": []
   },
   "outputs": [],
   "source": [
    "num_cat_df = pd.concat([numerical_df, encoded_df], axis=1)"
   ]
  },
  {
   "cell_type": "code",
   "execution_count": 51,
   "id": "36167bbd-7f8b-4c1f-ab03-bcc74cdc09eb",
   "metadata": {
    "tags": []
   },
   "outputs": [
    {
     "name": "stdout",
     "output_type": "stream",
     "text": [
      "<class 'pandas.core.frame.DataFrame'>\n",
      "RangeIndex: 10689 entries, 0 to 10688\n",
      "Data columns (total 54 columns):\n",
      " #   Column                           Non-Null Count  Dtype\n",
      "---  ------                           --------------  -----\n",
      " 0   customer_lifetime_value          10689 non-null  int64\n",
      " 1   income                           10689 non-null  int64\n",
      " 2   monthly_premium_auto             10689 non-null  int64\n",
      " 3   months_since_last_claim          10689 non-null  int64\n",
      " 4   months_since_policy_inception    10689 non-null  int64\n",
      " 5   number_of_open_complaints        10689 non-null  int64\n",
      " 6   number_of_policies               10689 non-null  int64\n",
      " 7   total_claim_amount               10689 non-null  int64\n",
      " 8   coverage                         10689 non-null  int64\n",
      " 9   education                        10689 non-null  int64\n",
      " 10  vehicle_size                     10689 non-null  int64\n",
      " 11  gender_m                         10689 non-null  uint8\n",
      " 12  response_yes                     10689 non-null  uint8\n",
      " 13  region_central                   10689 non-null  uint8\n",
      " 14  region_east                      10689 non-null  uint8\n",
      " 15  region_north west                10689 non-null  uint8\n",
      " 16  region_west region               10689 non-null  uint8\n",
      " 17  month_feb                        10689 non-null  uint8\n",
      " 18  month_jan                        10689 non-null  uint8\n",
      " 19  employment_status_disabled       10689 non-null  uint8\n",
      " 20  employment_status_employed       10689 non-null  uint8\n",
      " 21  employment_status_medical leave  10689 non-null  uint8\n",
      " 22  employment_status_retired        10689 non-null  uint8\n",
      " 23  employment_status_unemployed     10689 non-null  uint8\n",
      " 24  location_code_rural              10689 non-null  uint8\n",
      " 25  location_code_suburban           10689 non-null  uint8\n",
      " 26  location_code_urban              10689 non-null  uint8\n",
      " 27  marital_status_divorced          10689 non-null  uint8\n",
      " 28  marital_status_married           10689 non-null  uint8\n",
      " 29  marital_status_single            10689 non-null  uint8\n",
      " 30  policy_type_corporate auto       10689 non-null  uint8\n",
      " 31  policy_type_personal auto        10689 non-null  uint8\n",
      " 32  policy_type_special auto         10689 non-null  uint8\n",
      " 33  policy_corporate l1              10689 non-null  uint8\n",
      " 34  policy_corporate l2              10689 non-null  uint8\n",
      " 35  policy_corporate l3              10689 non-null  uint8\n",
      " 36  policy_personal l1               10689 non-null  uint8\n",
      " 37  policy_personal l2               10689 non-null  uint8\n",
      " 38  policy_personal l3               10689 non-null  uint8\n",
      " 39  policy_special l1                10689 non-null  uint8\n",
      " 40  policy_special l2                10689 non-null  uint8\n",
      " 41  policy_special l3                10689 non-null  uint8\n",
      " 42  renew_offer_type_offer1          10689 non-null  uint8\n",
      " 43  renew_offer_type_offer2          10689 non-null  uint8\n",
      " 44  renew_offer_type_offer3          10689 non-null  uint8\n",
      " 45  renew_offer_type_offer4          10689 non-null  uint8\n",
      " 46  sales_channel_agent              10689 non-null  uint8\n",
      " 47  sales_channel_branch             10689 non-null  uint8\n",
      " 48  sales_channel_call center        10689 non-null  uint8\n",
      " 49  sales_channel_web                10689 non-null  uint8\n",
      " 50  vehicle_class_four-door car      10689 non-null  uint8\n",
      " 51  vehicle_class_luxury car         10689 non-null  uint8\n",
      " 52  vehicle_class_suv                10689 non-null  uint8\n",
      " 53  vehicle_class_two-door car       10689 non-null  uint8\n",
      "dtypes: int64(11), uint8(43)\n",
      "memory usage: 1.3 MB\n"
     ]
    }
   ],
   "source": [
    "num_cat_df.info()"
   ]
  },
  {
   "cell_type": "code",
   "execution_count": 52,
   "id": "72ecd60f-2487-433b-a883-2789325489a1",
   "metadata": {
    "tags": []
   },
   "outputs": [],
   "source": [
    "X = num_cat_df.drop('total_claim_amount', axis=1)\n",
    "y = num_cat_df['total_claim_amount']"
   ]
  },
  {
   "cell_type": "code",
   "execution_count": 53,
   "id": "bff3eb34-0f86-468c-b49d-84cde666193e",
   "metadata": {
    "tags": []
   },
   "outputs": [],
   "source": [
    "from sklearn.model_selection import train_test_split\n",
    "\n",
    "X_train, X_test, y_train, y_test = train_test_split(X, y, test_size = 0.2, random_state = 42)"
   ]
  },
  {
   "cell_type": "code",
   "execution_count": 54,
   "id": "7bee5d64-9d11-451f-84ce-ac0217db9247",
   "metadata": {
    "tags": []
   },
   "outputs": [
    {
     "data": {
      "text/html": [
       "<div>\n",
       "<style scoped>\n",
       "    .dataframe tbody tr th:only-of-type {\n",
       "        vertical-align: middle;\n",
       "    }\n",
       "\n",
       "    .dataframe tbody tr th {\n",
       "        vertical-align: top;\n",
       "    }\n",
       "\n",
       "    .dataframe thead th {\n",
       "        text-align: right;\n",
       "    }\n",
       "</style>\n",
       "<table border=\"1\" class=\"dataframe\">\n",
       "  <thead>\n",
       "    <tr style=\"text-align: right;\">\n",
       "      <th></th>\n",
       "      <th>customer_lifetime_value</th>\n",
       "      <th>income</th>\n",
       "      <th>monthly_premium_auto</th>\n",
       "      <th>months_since_last_claim</th>\n",
       "      <th>months_since_policy_inception</th>\n",
       "      <th>number_of_open_complaints</th>\n",
       "      <th>number_of_policies</th>\n",
       "      <th>coverage</th>\n",
       "      <th>education</th>\n",
       "      <th>vehicle_size</th>\n",
       "      <th>...</th>\n",
       "      <th>renew_offer_type_offer3</th>\n",
       "      <th>renew_offer_type_offer4</th>\n",
       "      <th>sales_channel_agent</th>\n",
       "      <th>sales_channel_branch</th>\n",
       "      <th>sales_channel_call center</th>\n",
       "      <th>sales_channel_web</th>\n",
       "      <th>vehicle_class_four-door car</th>\n",
       "      <th>vehicle_class_luxury car</th>\n",
       "      <th>vehicle_class_suv</th>\n",
       "      <th>vehicle_class_two-door car</th>\n",
       "    </tr>\n",
       "  </thead>\n",
       "  <tbody>\n",
       "    <tr>\n",
       "      <th>9877</th>\n",
       "      <td>21423</td>\n",
       "      <td>22379</td>\n",
       "      <td>65</td>\n",
       "      <td>9</td>\n",
       "      <td>31</td>\n",
       "      <td>0</td>\n",
       "      <td>2</td>\n",
       "      <td>0</td>\n",
       "      <td>2</td>\n",
       "      <td>2</td>\n",
       "      <td>...</td>\n",
       "      <td>0</td>\n",
       "      <td>0</td>\n",
       "      <td>1</td>\n",
       "      <td>0</td>\n",
       "      <td>0</td>\n",
       "      <td>0</td>\n",
       "      <td>0</td>\n",
       "      <td>0</td>\n",
       "      <td>0</td>\n",
       "      <td>1</td>\n",
       "    </tr>\n",
       "    <tr>\n",
       "      <th>10069</th>\n",
       "      <td>8391</td>\n",
       "      <td>40211</td>\n",
       "      <td>106</td>\n",
       "      <td>5</td>\n",
       "      <td>98</td>\n",
       "      <td>2</td>\n",
       "      <td>6</td>\n",
       "      <td>2</td>\n",
       "      <td>0</td>\n",
       "      <td>1</td>\n",
       "      <td>...</td>\n",
       "      <td>0</td>\n",
       "      <td>0</td>\n",
       "      <td>0</td>\n",
       "      <td>0</td>\n",
       "      <td>1</td>\n",
       "      <td>0</td>\n",
       "      <td>0</td>\n",
       "      <td>0</td>\n",
       "      <td>0</td>\n",
       "      <td>1</td>\n",
       "    </tr>\n",
       "    <tr>\n",
       "      <th>10317</th>\n",
       "      <td>3969</td>\n",
       "      <td>49544</td>\n",
       "      <td>101</td>\n",
       "      <td>3</td>\n",
       "      <td>29</td>\n",
       "      <td>0</td>\n",
       "      <td>1</td>\n",
       "      <td>0</td>\n",
       "      <td>1</td>\n",
       "      <td>2</td>\n",
       "      <td>...</td>\n",
       "      <td>0</td>\n",
       "      <td>0</td>\n",
       "      <td>1</td>\n",
       "      <td>0</td>\n",
       "      <td>0</td>\n",
       "      <td>0</td>\n",
       "      <td>0</td>\n",
       "      <td>0</td>\n",
       "      <td>1</td>\n",
       "      <td>0</td>\n",
       "    </tr>\n",
       "    <tr>\n",
       "      <th>9796</th>\n",
       "      <td>14914</td>\n",
       "      <td>45963</td>\n",
       "      <td>63</td>\n",
       "      <td>3</td>\n",
       "      <td>73</td>\n",
       "      <td>2</td>\n",
       "      <td>2</td>\n",
       "      <td>0</td>\n",
       "      <td>2</td>\n",
       "      <td>2</td>\n",
       "      <td>...</td>\n",
       "      <td>0</td>\n",
       "      <td>0</td>\n",
       "      <td>1</td>\n",
       "      <td>0</td>\n",
       "      <td>0</td>\n",
       "      <td>0</td>\n",
       "      <td>1</td>\n",
       "      <td>0</td>\n",
       "      <td>0</td>\n",
       "      <td>0</td>\n",
       "    </tr>\n",
       "    <tr>\n",
       "      <th>8995</th>\n",
       "      <td>18060</td>\n",
       "      <td>57882</td>\n",
       "      <td>115</td>\n",
       "      <td>1</td>\n",
       "      <td>61</td>\n",
       "      <td>0</td>\n",
       "      <td>2</td>\n",
       "      <td>0</td>\n",
       "      <td>2</td>\n",
       "      <td>2</td>\n",
       "      <td>...</td>\n",
       "      <td>0</td>\n",
       "      <td>0</td>\n",
       "      <td>0</td>\n",
       "      <td>0</td>\n",
       "      <td>0</td>\n",
       "      <td>1</td>\n",
       "      <td>0</td>\n",
       "      <td>0</td>\n",
       "      <td>1</td>\n",
       "      <td>0</td>\n",
       "    </tr>\n",
       "    <tr>\n",
       "      <th>...</th>\n",
       "      <td>...</td>\n",
       "      <td>...</td>\n",
       "      <td>...</td>\n",
       "      <td>...</td>\n",
       "      <td>...</td>\n",
       "      <td>...</td>\n",
       "      <td>...</td>\n",
       "      <td>...</td>\n",
       "      <td>...</td>\n",
       "      <td>...</td>\n",
       "      <td>...</td>\n",
       "      <td>...</td>\n",
       "      <td>...</td>\n",
       "      <td>...</td>\n",
       "      <td>...</td>\n",
       "      <td>...</td>\n",
       "      <td>...</td>\n",
       "      <td>...</td>\n",
       "      <td>...</td>\n",
       "      <td>...</td>\n",
       "      <td>...</td>\n",
       "    </tr>\n",
       "    <tr>\n",
       "      <th>5734</th>\n",
       "      <td>7610</td>\n",
       "      <td>98701</td>\n",
       "      <td>94</td>\n",
       "      <td>22</td>\n",
       "      <td>66</td>\n",
       "      <td>0</td>\n",
       "      <td>3</td>\n",
       "      <td>1</td>\n",
       "      <td>1</td>\n",
       "      <td>1</td>\n",
       "      <td>...</td>\n",
       "      <td>0</td>\n",
       "      <td>0</td>\n",
       "      <td>0</td>\n",
       "      <td>1</td>\n",
       "      <td>0</td>\n",
       "      <td>0</td>\n",
       "      <td>1</td>\n",
       "      <td>0</td>\n",
       "      <td>0</td>\n",
       "      <td>0</td>\n",
       "    </tr>\n",
       "    <tr>\n",
       "      <th>5191</th>\n",
       "      <td>35186</td>\n",
       "      <td>86134</td>\n",
       "      <td>98</td>\n",
       "      <td>17</td>\n",
       "      <td>78</td>\n",
       "      <td>0</td>\n",
       "      <td>2</td>\n",
       "      <td>1</td>\n",
       "      <td>2</td>\n",
       "      <td>1</td>\n",
       "      <td>...</td>\n",
       "      <td>0</td>\n",
       "      <td>0</td>\n",
       "      <td>1</td>\n",
       "      <td>0</td>\n",
       "      <td>0</td>\n",
       "      <td>0</td>\n",
       "      <td>0</td>\n",
       "      <td>0</td>\n",
       "      <td>0</td>\n",
       "      <td>1</td>\n",
       "    </tr>\n",
       "    <tr>\n",
       "      <th>5390</th>\n",
       "      <td>4241</td>\n",
       "      <td>19834</td>\n",
       "      <td>64</td>\n",
       "      <td>26</td>\n",
       "      <td>8</td>\n",
       "      <td>4</td>\n",
       "      <td>8</td>\n",
       "      <td>0</td>\n",
       "      <td>3</td>\n",
       "      <td>1</td>\n",
       "      <td>...</td>\n",
       "      <td>0</td>\n",
       "      <td>0</td>\n",
       "      <td>1</td>\n",
       "      <td>0</td>\n",
       "      <td>0</td>\n",
       "      <td>0</td>\n",
       "      <td>1</td>\n",
       "      <td>0</td>\n",
       "      <td>0</td>\n",
       "      <td>0</td>\n",
       "    </tr>\n",
       "    <tr>\n",
       "      <th>860</th>\n",
       "      <td>12941</td>\n",
       "      <td>77060</td>\n",
       "      <td>106</td>\n",
       "      <td>23</td>\n",
       "      <td>90</td>\n",
       "      <td>0</td>\n",
       "      <td>2</td>\n",
       "      <td>0</td>\n",
       "      <td>0</td>\n",
       "      <td>2</td>\n",
       "      <td>...</td>\n",
       "      <td>0</td>\n",
       "      <td>0</td>\n",
       "      <td>0</td>\n",
       "      <td>1</td>\n",
       "      <td>0</td>\n",
       "      <td>0</td>\n",
       "      <td>0</td>\n",
       "      <td>0</td>\n",
       "      <td>1</td>\n",
       "      <td>0</td>\n",
       "    </tr>\n",
       "    <tr>\n",
       "      <th>7270</th>\n",
       "      <td>6947</td>\n",
       "      <td>63406</td>\n",
       "      <td>100</td>\n",
       "      <td>5</td>\n",
       "      <td>54</td>\n",
       "      <td>0</td>\n",
       "      <td>7</td>\n",
       "      <td>0</td>\n",
       "      <td>2</td>\n",
       "      <td>2</td>\n",
       "      <td>...</td>\n",
       "      <td>0</td>\n",
       "      <td>0</td>\n",
       "      <td>0</td>\n",
       "      <td>0</td>\n",
       "      <td>1</td>\n",
       "      <td>0</td>\n",
       "      <td>0</td>\n",
       "      <td>0</td>\n",
       "      <td>1</td>\n",
       "      <td>0</td>\n",
       "    </tr>\n",
       "  </tbody>\n",
       "</table>\n",
       "<p>8551 rows × 53 columns</p>\n",
       "</div>"
      ],
      "text/plain": [
       "       customer_lifetime_value  income  monthly_premium_auto  \\\n",
       "9877                     21423   22379                    65   \n",
       "10069                     8391   40211                   106   \n",
       "10317                     3969   49544                   101   \n",
       "9796                     14914   45963                    63   \n",
       "8995                     18060   57882                   115   \n",
       "...                        ...     ...                   ...   \n",
       "5734                      7610   98701                    94   \n",
       "5191                     35186   86134                    98   \n",
       "5390                      4241   19834                    64   \n",
       "860                      12941   77060                   106   \n",
       "7270                      6947   63406                   100   \n",
       "\n",
       "       months_since_last_claim  months_since_policy_inception  \\\n",
       "9877                         9                             31   \n",
       "10069                        5                             98   \n",
       "10317                        3                             29   \n",
       "9796                         3                             73   \n",
       "8995                         1                             61   \n",
       "...                        ...                            ...   \n",
       "5734                        22                             66   \n",
       "5191                        17                             78   \n",
       "5390                        26                              8   \n",
       "860                         23                             90   \n",
       "7270                         5                             54   \n",
       "\n",
       "       number_of_open_complaints  number_of_policies  coverage  education  \\\n",
       "9877                           0                   2         0          2   \n",
       "10069                          2                   6         2          0   \n",
       "10317                          0                   1         0          1   \n",
       "9796                           2                   2         0          2   \n",
       "8995                           0                   2         0          2   \n",
       "...                          ...                 ...       ...        ...   \n",
       "5734                           0                   3         1          1   \n",
       "5191                           0                   2         1          2   \n",
       "5390                           4                   8         0          3   \n",
       "860                            0                   2         0          0   \n",
       "7270                           0                   7         0          2   \n",
       "\n",
       "       vehicle_size  ...  renew_offer_type_offer3  renew_offer_type_offer4  \\\n",
       "9877              2  ...                        0                        0   \n",
       "10069             1  ...                        0                        0   \n",
       "10317             2  ...                        0                        0   \n",
       "9796              2  ...                        0                        0   \n",
       "8995              2  ...                        0                        0   \n",
       "...             ...  ...                      ...                      ...   \n",
       "5734              1  ...                        0                        0   \n",
       "5191              1  ...                        0                        0   \n",
       "5390              1  ...                        0                        0   \n",
       "860               2  ...                        0                        0   \n",
       "7270              2  ...                        0                        0   \n",
       "\n",
       "       sales_channel_agent  sales_channel_branch  sales_channel_call center  \\\n",
       "9877                     1                     0                          0   \n",
       "10069                    0                     0                          1   \n",
       "10317                    1                     0                          0   \n",
       "9796                     1                     0                          0   \n",
       "8995                     0                     0                          0   \n",
       "...                    ...                   ...                        ...   \n",
       "5734                     0                     1                          0   \n",
       "5191                     1                     0                          0   \n",
       "5390                     1                     0                          0   \n",
       "860                      0                     1                          0   \n",
       "7270                     0                     0                          1   \n",
       "\n",
       "       sales_channel_web  vehicle_class_four-door car  \\\n",
       "9877                   0                            0   \n",
       "10069                  0                            0   \n",
       "10317                  0                            0   \n",
       "9796                   0                            1   \n",
       "8995                   1                            0   \n",
       "...                  ...                          ...   \n",
       "5734                   0                            1   \n",
       "5191                   0                            0   \n",
       "5390                   0                            1   \n",
       "860                    0                            0   \n",
       "7270                   0                            0   \n",
       "\n",
       "       vehicle_class_luxury car  vehicle_class_suv  vehicle_class_two-door car  \n",
       "9877                          0                  0                           1  \n",
       "10069                         0                  0                           1  \n",
       "10317                         0                  1                           0  \n",
       "9796                          0                  0                           0  \n",
       "8995                          0                  1                           0  \n",
       "...                         ...                ...                         ...  \n",
       "5734                          0                  0                           0  \n",
       "5191                          0                  0                           1  \n",
       "5390                          0                  0                           0  \n",
       "860                           0                  1                           0  \n",
       "7270                          0                  1                           0  \n",
       "\n",
       "[8551 rows x 53 columns]"
      ]
     },
     "execution_count": 54,
     "metadata": {},
     "output_type": "execute_result"
    }
   ],
   "source": [
    "X_train"
   ]
  },
  {
   "cell_type": "code",
   "execution_count": 55,
   "id": "7177f0d4-121c-4d8f-a627-c33b9402b7c3",
   "metadata": {
    "tags": []
   },
   "outputs": [
    {
     "data": {
      "text/html": [
       "<div>\n",
       "<style scoped>\n",
       "    .dataframe tbody tr th:only-of-type {\n",
       "        vertical-align: middle;\n",
       "    }\n",
       "\n",
       "    .dataframe tbody tr th {\n",
       "        vertical-align: top;\n",
       "    }\n",
       "\n",
       "    .dataframe thead th {\n",
       "        text-align: right;\n",
       "    }\n",
       "</style>\n",
       "<table border=\"1\" class=\"dataframe\">\n",
       "  <thead>\n",
       "    <tr style=\"text-align: right;\">\n",
       "      <th></th>\n",
       "      <th>customer_lifetime_value</th>\n",
       "      <th>income</th>\n",
       "      <th>monthly_premium_auto</th>\n",
       "      <th>months_since_last_claim</th>\n",
       "      <th>months_since_policy_inception</th>\n",
       "      <th>number_of_open_complaints</th>\n",
       "      <th>number_of_policies</th>\n",
       "    </tr>\n",
       "  </thead>\n",
       "  <tbody>\n",
       "    <tr>\n",
       "      <th>9877</th>\n",
       "      <td>21423</td>\n",
       "      <td>22379</td>\n",
       "      <td>65</td>\n",
       "      <td>9</td>\n",
       "      <td>31</td>\n",
       "      <td>0</td>\n",
       "      <td>2</td>\n",
       "    </tr>\n",
       "    <tr>\n",
       "      <th>10069</th>\n",
       "      <td>8391</td>\n",
       "      <td>40211</td>\n",
       "      <td>106</td>\n",
       "      <td>5</td>\n",
       "      <td>98</td>\n",
       "      <td>2</td>\n",
       "      <td>6</td>\n",
       "    </tr>\n",
       "    <tr>\n",
       "      <th>10317</th>\n",
       "      <td>3969</td>\n",
       "      <td>49544</td>\n",
       "      <td>101</td>\n",
       "      <td>3</td>\n",
       "      <td>29</td>\n",
       "      <td>0</td>\n",
       "      <td>1</td>\n",
       "    </tr>\n",
       "    <tr>\n",
       "      <th>9796</th>\n",
       "      <td>14914</td>\n",
       "      <td>45963</td>\n",
       "      <td>63</td>\n",
       "      <td>3</td>\n",
       "      <td>73</td>\n",
       "      <td>2</td>\n",
       "      <td>2</td>\n",
       "    </tr>\n",
       "    <tr>\n",
       "      <th>8995</th>\n",
       "      <td>18060</td>\n",
       "      <td>57882</td>\n",
       "      <td>115</td>\n",
       "      <td>1</td>\n",
       "      <td>61</td>\n",
       "      <td>0</td>\n",
       "      <td>2</td>\n",
       "    </tr>\n",
       "    <tr>\n",
       "      <th>...</th>\n",
       "      <td>...</td>\n",
       "      <td>...</td>\n",
       "      <td>...</td>\n",
       "      <td>...</td>\n",
       "      <td>...</td>\n",
       "      <td>...</td>\n",
       "      <td>...</td>\n",
       "    </tr>\n",
       "    <tr>\n",
       "      <th>5734</th>\n",
       "      <td>7610</td>\n",
       "      <td>98701</td>\n",
       "      <td>94</td>\n",
       "      <td>22</td>\n",
       "      <td>66</td>\n",
       "      <td>0</td>\n",
       "      <td>3</td>\n",
       "    </tr>\n",
       "    <tr>\n",
       "      <th>5191</th>\n",
       "      <td>35186</td>\n",
       "      <td>86134</td>\n",
       "      <td>98</td>\n",
       "      <td>17</td>\n",
       "      <td>78</td>\n",
       "      <td>0</td>\n",
       "      <td>2</td>\n",
       "    </tr>\n",
       "    <tr>\n",
       "      <th>5390</th>\n",
       "      <td>4241</td>\n",
       "      <td>19834</td>\n",
       "      <td>64</td>\n",
       "      <td>26</td>\n",
       "      <td>8</td>\n",
       "      <td>4</td>\n",
       "      <td>8</td>\n",
       "    </tr>\n",
       "    <tr>\n",
       "      <th>860</th>\n",
       "      <td>12941</td>\n",
       "      <td>77060</td>\n",
       "      <td>106</td>\n",
       "      <td>23</td>\n",
       "      <td>90</td>\n",
       "      <td>0</td>\n",
       "      <td>2</td>\n",
       "    </tr>\n",
       "    <tr>\n",
       "      <th>7270</th>\n",
       "      <td>6947</td>\n",
       "      <td>63406</td>\n",
       "      <td>100</td>\n",
       "      <td>5</td>\n",
       "      <td>54</td>\n",
       "      <td>0</td>\n",
       "      <td>7</td>\n",
       "    </tr>\n",
       "  </tbody>\n",
       "</table>\n",
       "<p>8551 rows × 7 columns</p>\n",
       "</div>"
      ],
      "text/plain": [
       "       customer_lifetime_value  income  monthly_premium_auto  \\\n",
       "9877                     21423   22379                    65   \n",
       "10069                     8391   40211                   106   \n",
       "10317                     3969   49544                   101   \n",
       "9796                     14914   45963                    63   \n",
       "8995                     18060   57882                   115   \n",
       "...                        ...     ...                   ...   \n",
       "5734                      7610   98701                    94   \n",
       "5191                     35186   86134                    98   \n",
       "5390                      4241   19834                    64   \n",
       "860                      12941   77060                   106   \n",
       "7270                      6947   63406                   100   \n",
       "\n",
       "       months_since_last_claim  months_since_policy_inception  \\\n",
       "9877                         9                             31   \n",
       "10069                        5                             98   \n",
       "10317                        3                             29   \n",
       "9796                         3                             73   \n",
       "8995                         1                             61   \n",
       "...                        ...                            ...   \n",
       "5734                        22                             66   \n",
       "5191                        17                             78   \n",
       "5390                        26                              8   \n",
       "860                         23                             90   \n",
       "7270                         5                             54   \n",
       "\n",
       "       number_of_open_complaints  number_of_policies  \n",
       "9877                           0                   2  \n",
       "10069                          2                   6  \n",
       "10317                          0                   1  \n",
       "9796                           2                   2  \n",
       "8995                           0                   2  \n",
       "...                          ...                 ...  \n",
       "5734                           0                   3  \n",
       "5191                           0                   2  \n",
       "5390                           4                   8  \n",
       "860                            0                   2  \n",
       "7270                           0                   7  \n",
       "\n",
       "[8551 rows x 7 columns]"
      ]
     },
     "execution_count": 55,
     "metadata": {},
     "output_type": "execute_result"
    }
   ],
   "source": [
    "X_train_num = X_train[X_df.columns]\n",
    "X_train_num"
   ]
  },
  {
   "cell_type": "code",
   "execution_count": 56,
   "id": "b720a675-8001-4bc5-96c1-7ab715325e6f",
   "metadata": {
    "tags": []
   },
   "outputs": [],
   "source": [
    "scaler = StandardScaler()\n",
    "\n",
    "scaler.fit(X_train_num)\n",
    "\n",
    "X_train_num_scaled = scaler.transform(X_train_num)"
   ]
  },
  {
   "cell_type": "code",
   "execution_count": 57,
   "id": "a7359a5f-a198-4b03-97c8-7b8b3cbc327e",
   "metadata": {
    "tags": []
   },
   "outputs": [],
   "source": [
    "X_train_num_scaled_df = pd.DataFrame(X_train_num_scaled)\n",
    "X_train_num_scaled_df.columns = X_train_num.columns"
   ]
  },
  {
   "cell_type": "code",
   "execution_count": 58,
   "id": "49b54cf8-24c7-4162-bca5-a9d70d4e3111",
   "metadata": {
    "tags": []
   },
   "outputs": [
    {
     "data": {
      "text/html": [
       "<div>\n",
       "<style scoped>\n",
       "    .dataframe tbody tr th:only-of-type {\n",
       "        vertical-align: middle;\n",
       "    }\n",
       "\n",
       "    .dataframe tbody tr th {\n",
       "        vertical-align: top;\n",
       "    }\n",
       "\n",
       "    .dataframe thead th {\n",
       "        text-align: right;\n",
       "    }\n",
       "</style>\n",
       "<table border=\"1\" class=\"dataframe\">\n",
       "  <thead>\n",
       "    <tr style=\"text-align: right;\">\n",
       "      <th></th>\n",
       "      <th>customer_lifetime_value</th>\n",
       "      <th>income</th>\n",
       "      <th>monthly_premium_auto</th>\n",
       "      <th>months_since_last_claim</th>\n",
       "      <th>months_since_policy_inception</th>\n",
       "      <th>number_of_open_complaints</th>\n",
       "      <th>number_of_policies</th>\n",
       "    </tr>\n",
       "  </thead>\n",
       "  <tbody>\n",
       "    <tr>\n",
       "      <th>0</th>\n",
       "      <td>1.960751</td>\n",
       "      <td>-1.191074</td>\n",
       "      <td>-0.818409</td>\n",
       "      <td>-0.605527</td>\n",
       "      <td>-0.617389</td>\n",
       "      <td>-0.417266</td>\n",
       "      <td>-0.410084</td>\n",
       "    </tr>\n",
       "    <tr>\n",
       "      <th>1</th>\n",
       "      <td>0.057838</td>\n",
       "      <td>-0.469596</td>\n",
       "      <td>0.367470</td>\n",
       "      <td>-1.000293</td>\n",
       "      <td>1.788540</td>\n",
       "      <td>1.805812</td>\n",
       "      <td>1.257753</td>\n",
       "    </tr>\n",
       "    <tr>\n",
       "      <th>2</th>\n",
       "      <td>-0.587856</td>\n",
       "      <td>-0.091986</td>\n",
       "      <td>0.222850</td>\n",
       "      <td>-1.197677</td>\n",
       "      <td>-0.689207</td>\n",
       "      <td>-0.417266</td>\n",
       "      <td>-0.827043</td>\n",
       "    </tr>\n",
       "    <tr>\n",
       "      <th>3</th>\n",
       "      <td>1.010316</td>\n",
       "      <td>-0.236872</td>\n",
       "      <td>-0.876257</td>\n",
       "      <td>-1.197677</td>\n",
       "      <td>0.890806</td>\n",
       "      <td>1.805812</td>\n",
       "      <td>-0.410084</td>\n",
       "    </tr>\n",
       "    <tr>\n",
       "      <th>4</th>\n",
       "      <td>1.469691</td>\n",
       "      <td>0.245368</td>\n",
       "      <td>0.627784</td>\n",
       "      <td>-1.395060</td>\n",
       "      <td>0.459893</td>\n",
       "      <td>-0.417266</td>\n",
       "      <td>-0.410084</td>\n",
       "    </tr>\n",
       "    <tr>\n",
       "      <th>...</th>\n",
       "      <td>...</td>\n",
       "      <td>...</td>\n",
       "      <td>...</td>\n",
       "      <td>...</td>\n",
       "      <td>...</td>\n",
       "      <td>...</td>\n",
       "      <td>...</td>\n",
       "    </tr>\n",
       "    <tr>\n",
       "      <th>8546</th>\n",
       "      <td>-0.056203</td>\n",
       "      <td>1.896893</td>\n",
       "      <td>0.020383</td>\n",
       "      <td>0.677465</td>\n",
       "      <td>0.639440</td>\n",
       "      <td>-0.417266</td>\n",
       "      <td>0.006875</td>\n",
       "    </tr>\n",
       "    <tr>\n",
       "      <th>8547</th>\n",
       "      <td>3.970404</td>\n",
       "      <td>1.388436</td>\n",
       "      <td>0.136079</td>\n",
       "      <td>0.184007</td>\n",
       "      <td>1.070352</td>\n",
       "      <td>-0.417266</td>\n",
       "      <td>-0.410084</td>\n",
       "    </tr>\n",
       "    <tr>\n",
       "      <th>8548</th>\n",
       "      <td>-0.548139</td>\n",
       "      <td>-1.294044</td>\n",
       "      <td>-0.847333</td>\n",
       "      <td>1.072232</td>\n",
       "      <td>-1.443304</td>\n",
       "      <td>4.028889</td>\n",
       "      <td>2.091671</td>\n",
       "    </tr>\n",
       "    <tr>\n",
       "      <th>8549</th>\n",
       "      <td>0.722222</td>\n",
       "      <td>1.021304</td>\n",
       "      <td>0.367470</td>\n",
       "      <td>0.776157</td>\n",
       "      <td>1.501265</td>\n",
       "      <td>-0.417266</td>\n",
       "      <td>-0.410084</td>\n",
       "    </tr>\n",
       "    <tr>\n",
       "      <th>8550</th>\n",
       "      <td>-0.153013</td>\n",
       "      <td>0.468867</td>\n",
       "      <td>0.193926</td>\n",
       "      <td>-1.000293</td>\n",
       "      <td>0.208527</td>\n",
       "      <td>-0.417266</td>\n",
       "      <td>1.674712</td>\n",
       "    </tr>\n",
       "  </tbody>\n",
       "</table>\n",
       "<p>8551 rows × 7 columns</p>\n",
       "</div>"
      ],
      "text/plain": [
       "      customer_lifetime_value    income  monthly_premium_auto  \\\n",
       "0                    1.960751 -1.191074             -0.818409   \n",
       "1                    0.057838 -0.469596              0.367470   \n",
       "2                   -0.587856 -0.091986              0.222850   \n",
       "3                    1.010316 -0.236872             -0.876257   \n",
       "4                    1.469691  0.245368              0.627784   \n",
       "...                       ...       ...                   ...   \n",
       "8546                -0.056203  1.896893              0.020383   \n",
       "8547                 3.970404  1.388436              0.136079   \n",
       "8548                -0.548139 -1.294044             -0.847333   \n",
       "8549                 0.722222  1.021304              0.367470   \n",
       "8550                -0.153013  0.468867              0.193926   \n",
       "\n",
       "      months_since_last_claim  months_since_policy_inception  \\\n",
       "0                   -0.605527                      -0.617389   \n",
       "1                   -1.000293                       1.788540   \n",
       "2                   -1.197677                      -0.689207   \n",
       "3                   -1.197677                       0.890806   \n",
       "4                   -1.395060                       0.459893   \n",
       "...                       ...                            ...   \n",
       "8546                 0.677465                       0.639440   \n",
       "8547                 0.184007                       1.070352   \n",
       "8548                 1.072232                      -1.443304   \n",
       "8549                 0.776157                       1.501265   \n",
       "8550                -1.000293                       0.208527   \n",
       "\n",
       "      number_of_open_complaints  number_of_policies  \n",
       "0                     -0.417266           -0.410084  \n",
       "1                      1.805812            1.257753  \n",
       "2                     -0.417266           -0.827043  \n",
       "3                      1.805812           -0.410084  \n",
       "4                     -0.417266           -0.410084  \n",
       "...                         ...                 ...  \n",
       "8546                  -0.417266            0.006875  \n",
       "8547                  -0.417266           -0.410084  \n",
       "8548                   4.028889            2.091671  \n",
       "8549                  -0.417266           -0.410084  \n",
       "8550                  -0.417266            1.674712  \n",
       "\n",
       "[8551 rows x 7 columns]"
      ]
     },
     "execution_count": 58,
     "metadata": {},
     "output_type": "execute_result"
    }
   ],
   "source": [
    "X_train_num_scaled_df"
   ]
  },
  {
   "cell_type": "code",
   "execution_count": 59,
   "id": "dfbc601b-b261-4906-a4e7-9f392cc30028",
   "metadata": {
    "tags": []
   },
   "outputs": [],
   "source": [
    "X_train_cat = X_train[encoded_df.columns]"
   ]
  },
  {
   "cell_type": "code",
   "execution_count": 60,
   "id": "7c040a6d-a3a8-484f-ab4b-3f2b9496a562",
   "metadata": {
    "tags": []
   },
   "outputs": [],
   "source": [
    "X_train_cat = X_train_cat.reset_index()"
   ]
  },
  {
   "cell_type": "code",
   "execution_count": 61,
   "id": "6ab3ac82-689b-4f4f-9006-7e40bef09621",
   "metadata": {
    "tags": []
   },
   "outputs": [],
   "source": [
    "X_train = pd.concat([X_train_num_scaled_df, X_train_cat],axis=1)"
   ]
  },
  {
   "cell_type": "code",
   "execution_count": 64,
   "id": "4465dc5e-7cf1-41f9-a449-c1bff646a684",
   "metadata": {
    "tags": []
   },
   "outputs": [],
   "source": [
    "from sklearn.linear_model import LinearRegression\n",
    "\n",
    "lm = LinearRegression()\n",
    "\n",
    "model = lm.fit(X_train, y_train)"
   ]
  },
  {
   "cell_type": "code",
   "execution_count": 65,
   "id": "49b7b7eb-0f98-4208-9ac7-40b03fcad798",
   "metadata": {
    "tags": []
   },
   "outputs": [
    {
     "data": {
      "text/html": [
       "<div>\n",
       "<style scoped>\n",
       "    .dataframe tbody tr th:only-of-type {\n",
       "        vertical-align: middle;\n",
       "    }\n",
       "\n",
       "    .dataframe tbody tr th {\n",
       "        vertical-align: top;\n",
       "    }\n",
       "\n",
       "    .dataframe thead th {\n",
       "        text-align: right;\n",
       "    }\n",
       "</style>\n",
       "<table border=\"1\" class=\"dataframe\">\n",
       "  <thead>\n",
       "    <tr style=\"text-align: right;\">\n",
       "      <th></th>\n",
       "      <th>customer_lifetime_value</th>\n",
       "      <th>income</th>\n",
       "      <th>monthly_premium_auto</th>\n",
       "      <th>months_since_last_claim</th>\n",
       "      <th>months_since_policy_inception</th>\n",
       "      <th>number_of_open_complaints</th>\n",
       "      <th>number_of_policies</th>\n",
       "    </tr>\n",
       "  </thead>\n",
       "  <tbody>\n",
       "    <tr>\n",
       "      <th>3487</th>\n",
       "      <td>4871</td>\n",
       "      <td>72648</td>\n",
       "      <td>61</td>\n",
       "      <td>0</td>\n",
       "      <td>78</td>\n",
       "      <td>0</td>\n",
       "      <td>5</td>\n",
       "    </tr>\n",
       "    <tr>\n",
       "      <th>668</th>\n",
       "      <td>9233</td>\n",
       "      <td>42600</td>\n",
       "      <td>115</td>\n",
       "      <td>10</td>\n",
       "      <td>78</td>\n",
       "      <td>0</td>\n",
       "      <td>3</td>\n",
       "    </tr>\n",
       "    <tr>\n",
       "      <th>10315</th>\n",
       "      <td>3203</td>\n",
       "      <td>68370</td>\n",
       "      <td>80</td>\n",
       "      <td>0</td>\n",
       "      <td>45</td>\n",
       "      <td>0</td>\n",
       "      <td>1</td>\n",
       "    </tr>\n",
       "    <tr>\n",
       "      <th>5332</th>\n",
       "      <td>5067</td>\n",
       "      <td>61067</td>\n",
       "      <td>64</td>\n",
       "      <td>20</td>\n",
       "      <td>0</td>\n",
       "      <td>1</td>\n",
       "      <td>3</td>\n",
       "    </tr>\n",
       "    <tr>\n",
       "      <th>1523</th>\n",
       "      <td>8427</td>\n",
       "      <td>46503</td>\n",
       "      <td>215</td>\n",
       "      <td>4</td>\n",
       "      <td>21</td>\n",
       "      <td>1</td>\n",
       "      <td>1</td>\n",
       "    </tr>\n",
       "    <tr>\n",
       "      <th>...</th>\n",
       "      <td>...</td>\n",
       "      <td>...</td>\n",
       "      <td>...</td>\n",
       "      <td>...</td>\n",
       "      <td>...</td>\n",
       "      <td>...</td>\n",
       "      <td>...</td>\n",
       "    </tr>\n",
       "    <tr>\n",
       "      <th>7089</th>\n",
       "      <td>3621</td>\n",
       "      <td>13457</td>\n",
       "      <td>94</td>\n",
       "      <td>31</td>\n",
       "      <td>28</td>\n",
       "      <td>0</td>\n",
       "      <td>1</td>\n",
       "    </tr>\n",
       "    <tr>\n",
       "      <th>2507</th>\n",
       "      <td>8283</td>\n",
       "      <td>71034</td>\n",
       "      <td>103</td>\n",
       "      <td>26</td>\n",
       "      <td>15</td>\n",
       "      <td>0</td>\n",
       "      <td>3</td>\n",
       "    </tr>\n",
       "    <tr>\n",
       "      <th>7965</th>\n",
       "      <td>4035</td>\n",
       "      <td>83983</td>\n",
       "      <td>112</td>\n",
       "      <td>6</td>\n",
       "      <td>73</td>\n",
       "      <td>0</td>\n",
       "      <td>1</td>\n",
       "    </tr>\n",
       "    <tr>\n",
       "      <th>8523</th>\n",
       "      <td>7240</td>\n",
       "      <td>32818</td>\n",
       "      <td>93</td>\n",
       "      <td>17</td>\n",
       "      <td>39</td>\n",
       "      <td>0</td>\n",
       "      <td>8</td>\n",
       "    </tr>\n",
       "    <tr>\n",
       "      <th>9803</th>\n",
       "      <td>10280</td>\n",
       "      <td>73661</td>\n",
       "      <td>128</td>\n",
       "      <td>34</td>\n",
       "      <td>47</td>\n",
       "      <td>0</td>\n",
       "      <td>3</td>\n",
       "    </tr>\n",
       "  </tbody>\n",
       "</table>\n",
       "<p>2138 rows × 7 columns</p>\n",
       "</div>"
      ],
      "text/plain": [
       "       customer_lifetime_value  income  monthly_premium_auto  \\\n",
       "3487                      4871   72648                    61   \n",
       "668                       9233   42600                   115   \n",
       "10315                     3203   68370                    80   \n",
       "5332                      5067   61067                    64   \n",
       "1523                      8427   46503                   215   \n",
       "...                        ...     ...                   ...   \n",
       "7089                      3621   13457                    94   \n",
       "2507                      8283   71034                   103   \n",
       "7965                      4035   83983                   112   \n",
       "8523                      7240   32818                    93   \n",
       "9803                     10280   73661                   128   \n",
       "\n",
       "       months_since_last_claim  months_since_policy_inception  \\\n",
       "3487                         0                             78   \n",
       "668                         10                             78   \n",
       "10315                        0                             45   \n",
       "5332                        20                              0   \n",
       "1523                         4                             21   \n",
       "...                        ...                            ...   \n",
       "7089                        31                             28   \n",
       "2507                        26                             15   \n",
       "7965                         6                             73   \n",
       "8523                        17                             39   \n",
       "9803                        34                             47   \n",
       "\n",
       "       number_of_open_complaints  number_of_policies  \n",
       "3487                           0                   5  \n",
       "668                            0                   3  \n",
       "10315                          0                   1  \n",
       "5332                           1                   3  \n",
       "1523                           1                   1  \n",
       "...                          ...                 ...  \n",
       "7089                           0                   1  \n",
       "2507                           0                   3  \n",
       "7965                           0                   1  \n",
       "8523                           0                   8  \n",
       "9803                           0                   3  \n",
       "\n",
       "[2138 rows x 7 columns]"
      ]
     },
     "execution_count": 65,
     "metadata": {},
     "output_type": "execute_result"
    }
   ],
   "source": [
    "X_test_num = X_test[X_df.columns]\n",
    "\n",
    "X_test_num"
   ]
  },
  {
   "cell_type": "code",
   "execution_count": 69,
   "id": "87c7793a-695c-4230-800b-963a29094a86",
   "metadata": {
    "tags": []
   },
   "outputs": [],
   "source": [
    "X_test_num_scaled = scaler.transform(X_test_num)"
   ]
  },
  {
   "cell_type": "code",
   "execution_count": 70,
   "id": "366ede43-d449-4b61-85cd-319a4c0e998c",
   "metadata": {
    "tags": []
   },
   "outputs": [],
   "source": [
    "X_test_num_scaled_df = pd.DataFrame(X_test_num_scaled)\n",
    "X_test_num_scaled_df.columns = X_test_num.columns"
   ]
  },
  {
   "cell_type": "code",
   "execution_count": 71,
   "id": "5e3b41d2-f99c-4cea-970c-58e69dd6d1c0",
   "metadata": {
    "tags": []
   },
   "outputs": [],
   "source": [
    "X_test_cat = X_test[encoded_df.columns]"
   ]
  },
  {
   "cell_type": "code",
   "execution_count": 72,
   "id": "53d021cb-7797-472e-a162-62d2dae515e8",
   "metadata": {
    "tags": []
   },
   "outputs": [],
   "source": [
    "X_test_cat = X_test_cat.reset_index()"
   ]
  },
  {
   "cell_type": "code",
   "execution_count": 73,
   "id": "af0e31e5-f409-4cce-993e-4b961d471aaa",
   "metadata": {
    "tags": []
   },
   "outputs": [],
   "source": [
    "X_test = pd.concat([X_test_num_scaled_df, X_test_cat],axis=1)"
   ]
  },
  {
   "cell_type": "code",
   "execution_count": 74,
   "id": "d41d0542-3a79-48aa-a316-d9fe84d3c437",
   "metadata": {
    "tags": []
   },
   "outputs": [],
   "source": [
    "y_pred = model.predict(X_test)"
   ]
  },
  {
   "cell_type": "code",
   "execution_count": 75,
   "id": "1a00f10e-4fa5-465b-a44a-cfb13239d989",
   "metadata": {
    "tags": []
   },
   "outputs": [],
   "source": [
    "residuals = np.array(y_test - y_pred)"
   ]
  },
  {
   "cell_type": "code",
   "execution_count": 76,
   "id": "2426d8e8-553f-42e3-8b01-f45415f9d054",
   "metadata": {
    "tags": []
   },
   "outputs": [],
   "source": [
    "res_df = pd.DataFrame({'y_test':y_test,'y_pred':y_pred,'residual':residuals})"
   ]
  },
  {
   "cell_type": "code",
   "execution_count": 77,
   "id": "074d7e48-e12f-4170-bdee-2e603ff7cb45",
   "metadata": {
    "tags": []
   },
   "outputs": [
    {
     "data": {
      "text/html": [
       "<div>\n",
       "<style scoped>\n",
       "    .dataframe tbody tr th:only-of-type {\n",
       "        vertical-align: middle;\n",
       "    }\n",
       "\n",
       "    .dataframe tbody tr th {\n",
       "        vertical-align: top;\n",
       "    }\n",
       "\n",
       "    .dataframe thead th {\n",
       "        text-align: right;\n",
       "    }\n",
       "</style>\n",
       "<table border=\"1\" class=\"dataframe\">\n",
       "  <thead>\n",
       "    <tr style=\"text-align: right;\">\n",
       "      <th></th>\n",
       "      <th>y_test</th>\n",
       "      <th>y_pred</th>\n",
       "      <th>residual</th>\n",
       "    </tr>\n",
       "  </thead>\n",
       "  <tbody>\n",
       "    <tr>\n",
       "      <th>3487</th>\n",
       "      <td>120</td>\n",
       "      <td>-68.826694</td>\n",
       "      <td>188.826694</td>\n",
       "    </tr>\n",
       "    <tr>\n",
       "      <th>668</th>\n",
       "      <td>660</td>\n",
       "      <td>602.005006</td>\n",
       "      <td>57.994994</td>\n",
       "    </tr>\n",
       "    <tr>\n",
       "      <th>10315</th>\n",
       "      <td>244</td>\n",
       "      <td>257.029175</td>\n",
       "      <td>-13.029175</td>\n",
       "    </tr>\n",
       "    <tr>\n",
       "      <th>5332</th>\n",
       "      <td>86</td>\n",
       "      <td>-32.617246</td>\n",
       "      <td>118.617246</td>\n",
       "    </tr>\n",
       "    <tr>\n",
       "      <th>1523</th>\n",
       "      <td>1032</td>\n",
       "      <td>1081.345940</td>\n",
       "      <td>-49.345940</td>\n",
       "    </tr>\n",
       "    <tr>\n",
       "      <th>...</th>\n",
       "      <td>...</td>\n",
       "      <td>...</td>\n",
       "      <td>...</td>\n",
       "    </tr>\n",
       "    <tr>\n",
       "      <th>7089</th>\n",
       "      <td>285</td>\n",
       "      <td>360.627019</td>\n",
       "      <td>-75.627019</td>\n",
       "    </tr>\n",
       "    <tr>\n",
       "      <th>2507</th>\n",
       "      <td>494</td>\n",
       "      <td>541.875144</td>\n",
       "      <td>-47.875144</td>\n",
       "    </tr>\n",
       "    <tr>\n",
       "      <th>7965</th>\n",
       "      <td>537</td>\n",
       "      <td>672.125768</td>\n",
       "      <td>-135.125768</td>\n",
       "    </tr>\n",
       "    <tr>\n",
       "      <th>8523</th>\n",
       "      <td>446</td>\n",
       "      <td>523.495483</td>\n",
       "      <td>-77.495483</td>\n",
       "    </tr>\n",
       "    <tr>\n",
       "      <th>9803</th>\n",
       "      <td>404</td>\n",
       "      <td>508.223287</td>\n",
       "      <td>-104.223287</td>\n",
       "    </tr>\n",
       "  </tbody>\n",
       "</table>\n",
       "<p>2138 rows × 3 columns</p>\n",
       "</div>"
      ],
      "text/plain": [
       "       y_test       y_pred    residual\n",
       "3487      120   -68.826694  188.826694\n",
       "668       660   602.005006   57.994994\n",
       "10315     244   257.029175  -13.029175\n",
       "5332       86   -32.617246  118.617246\n",
       "1523     1032  1081.345940  -49.345940\n",
       "...       ...          ...         ...\n",
       "7089      285   360.627019  -75.627019\n",
       "2507      494   541.875144  -47.875144\n",
       "7965      537   672.125768 -135.125768\n",
       "8523      446   523.495483  -77.495483\n",
       "9803      404   508.223287 -104.223287\n",
       "\n",
       "[2138 rows x 3 columns]"
      ]
     },
     "execution_count": 77,
     "metadata": {},
     "output_type": "execute_result"
    }
   ],
   "source": [
    "res_df"
   ]
  },
  {
   "cell_type": "code",
   "execution_count": 78,
   "id": "9aee0e8a-11a4-4321-8791-9fe2305ea2cf",
   "metadata": {
    "tags": []
   },
   "outputs": [
    {
     "data": {
      "text/plain": [
       "18425.00082715968"
      ]
     },
     "execution_count": 78,
     "metadata": {},
     "output_type": "execute_result"
    }
   ],
   "source": [
    "mse(y_test,y_pred)"
   ]
  },
  {
   "cell_type": "code",
   "execution_count": 79,
   "id": "d416de17-6953-4b7b-b87c-00fdcd2fd957",
   "metadata": {
    "tags": []
   },
   "outputs": [
    {
     "data": {
      "text/plain": [
       "135.7387226518641"
      ]
     },
     "execution_count": 79,
     "metadata": {},
     "output_type": "execute_result"
    }
   ],
   "source": [
    "np.sqrt(mse(y_test,y_pred))"
   ]
  },
  {
   "cell_type": "code",
   "execution_count": 80,
   "id": "dfe76703-b9b6-4561-a3e7-ca5f9448aeea",
   "metadata": {
    "tags": []
   },
   "outputs": [
    {
     "name": "stdout",
     "output_type": "stream",
     "text": [
      "93.59618200363931\n"
     ]
    }
   ],
   "source": [
    "print(mae(y_test,y_pred))"
   ]
  },
  {
   "cell_type": "code",
   "execution_count": 81,
   "id": "836ce3b5-1ce5-4b54-8713-4968a939a3c1",
   "metadata": {
    "tags": []
   },
   "outputs": [
    {
     "data": {
      "text/plain": [
       "0.7730287050495666"
      ]
     },
     "execution_count": 81,
     "metadata": {},
     "output_type": "execute_result"
    }
   ],
   "source": [
    "R2=r2_score(y_test,y_pred)\n",
    "R2"
   ]
  },
  {
   "cell_type": "code",
   "execution_count": 83,
   "id": "506be562-4746-45c3-9cf6-5596dcd1df82",
   "metadata": {
    "tags": []
   },
   "outputs": [
    {
     "data": {
      "text/plain": [
       "0.7671446676384656"
      ]
     },
     "execution_count": 83,
     "metadata": {},
     "output_type": "execute_result"
    }
   ],
   "source": [
    "R2_test=model.score(X_test,y_test)\n",
    "R2_train=model.score(X_train,y_train)\n",
    "Adj_R2= 1 - (1-R2)*(len(y_test)-1)/(len(y_test)-X_test.shape[1]-1)\n",
    "Adj_R2"
   ]
  },
  {
   "cell_type": "code",
   "execution_count": null,
   "id": "bf8ad1cb-e69e-410a-b4a8-5e613c65688f",
   "metadata": {},
   "outputs": [],
   "source": []
  }
 ],
 "metadata": {
  "kernelspec": {
   "display_name": "Python 3 (ipykernel)",
   "language": "python",
   "name": "python3"
  },
  "language_info": {
   "codemirror_mode": {
    "name": "ipython",
    "version": 3
   },
   "file_extension": ".py",
   "mimetype": "text/x-python",
   "name": "python",
   "nbconvert_exporter": "python",
   "pygments_lexer": "ipython3",
   "version": "3.9.18"
  }
 },
 "nbformat": 4,
 "nbformat_minor": 5
}
