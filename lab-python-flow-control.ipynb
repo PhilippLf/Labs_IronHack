{
 "cells": [
  {
   "cell_type": "markdown",
   "id": "d3bfc191-8885-42ee-b0a0-bbab867c6f9f",
   "metadata": {
    "tags": []
   },
   "source": [
    "# Lab | Flow Control"
   ]
  },
  {
   "cell_type": "markdown",
   "id": "3851fcd1-cf98-4653-9c89-e003b7ec9400",
   "metadata": {},
   "source": [
    "## Exercise: Managing Customer Orders Optimized\n",
    "\n",
    "In the last lab, you were starting an online store that sells various products. To ensure smooth operations, you developed a program that manages customer orders and inventory.\n",
    "\n",
    "You did so without using flow control. Let's go a step further and improve this code.\n",
    "\n",
    "Follow the steps below to complete the exercise:\n",
    "\n",
    "1. Look at your code from the lab data structures, and improve repeated code with loops.\n",
    "\n",
    "2. Instead of asking the user to input the name of three products that a customer wants to order, do the following:\n",
    "    \n",
    "    a. Prompt the user to enter the name of a product that a customer wants to order.\n",
    "    \n",
    "    b. Add the product name to the \"customer_orders\" set.\n",
    "    \n",
    "    c. Ask the user if they want to add another product (yes/no).\n",
    "    \n",
    "    d. Continue the loop until the user does not want to add another product.\n",
    "\n",
    "3. Instead of updating the inventory by subtracting 1 from the quantity of each product, only do it for  the products that were ordered (those in \"customer_orders\")."
   ]
  },
  {
   "cell_type": "code",
   "execution_count": 1,
   "id": "7d7ec5b4-d9fa-49a8-a526-c8f9bbce1003",
   "metadata": {
    "tags": []
   },
   "outputs": [
    {
     "name": "stdin",
     "output_type": "stream",
     "text": [
      "what is the quantity of t-shirt:  8\n",
      "what is the quantity of mug:  11\n",
      "what is the quantity of hat:  5\n",
      "what is the quantity of book:  14\n",
      "what is the quantity of keychain:  10\n",
      "Enter a product the customer wants to order: \n"
     ]
    },
    {
     "name": "stdout",
     "output_type": "stream",
     "text": [
      "you did not enter a valid item.\n"
     ]
    },
    {
     "name": "stdin",
     "output_type": "stream",
     "text": [
      "Enter a product the customer wants to order: book\n",
      "Enter a product the customer wants to order: keychain\n"
     ]
    },
    {
     "name": "stdout",
     "output_type": "stream",
     "text": [
      "{'book', 'keychain'}\n",
      "Order Statistics:\n",
      "Total Products Ordered: 2\n",
      "Percentage of Products Ordered: 4%\n",
      "The stock of t-shirt is 7\n",
      "The stock of mug is 10\n",
      "The stock of hat is 4\n",
      "The stock of book is 13\n",
      "The stock of keychain is 9\n"
     ]
    }
   ],
   "source": [
    "# 1.\n",
    "\n",
    "for i in range(3):\n",
    "    order = input('Enter a product the customer wants to order:')\n",
    "    if order in products:\n",
    "        customer_orders.add(order)\n",
    "    else:\n",
    "        print(\"you did not enter a valid item.\")"
   ]
  },
  {
   "cell_type": "code",
   "execution_count": 6,
   "id": "c72539e1-e799-48d5-8735-05aa8b3c818e",
   "metadata": {
    "tags": []
   },
   "outputs": [
    {
     "name": "stdin",
     "output_type": "stream",
     "text": [
      "what is the quantity of t-shirt:  5\n",
      "what is the quantity of mug:  2\n",
      "what is the quantity of hat:  9\n",
      "what is the quantity of book:  11\n",
      "what is the quantity of keychain:  10\n",
      "Enter a product the customer wants to order: t-shiort\n"
     ]
    },
    {
     "name": "stdout",
     "output_type": "stream",
     "text": [
      "you did not enter a valid item.\n"
     ]
    },
    {
     "name": "stdin",
     "output_type": "stream",
     "text": [
      "Do you want to add another product? (y/n) y\n",
      "Enter a product the customer wants to order: t-shirt\n",
      "Do you want to add another product? (y/n) y\n",
      "Enter a product the customer wants to order: mug\n",
      "Do you want to add another product? (y/n) n\n"
     ]
    },
    {
     "name": "stdout",
     "output_type": "stream",
     "text": [
      "{'mug', 't-shirt'}\n",
      "Order Statistics:\n",
      "Total Products Ordered: 2\n",
      "Percentage of Products Ordered: 5%\n",
      "The stock of t-shirt is 4\n",
      "The stock of mug is 1\n",
      "The stock of hat is 9\n",
      "The stock of book is 11\n",
      "The stock of keychain is 10\n"
     ]
    }
   ],
   "source": [
    "products = [\"t-shirt\", \"mug\", \"hat\", \"book\", \"keychain\"]\n",
    "\n",
    "inventory = {}\n",
    "\n",
    "# 1.\n",
    "\n",
    "for i in products:\n",
    "    quantity = input(f\"what is the quantity of {i}: \")\n",
    "    quantity = int(quantity)\n",
    "    inventory[i] = quantity\n",
    "    \n",
    "customer_orders = set()\n",
    "\n",
    "# 2.\n",
    "\n",
    "while True:\n",
    "    order = input('Enter a product the customer wants to order:')\n",
    "    if order in products:\n",
    "        customer_orders.add(order)\n",
    "    else:\n",
    "        print(\"you did not enter a valid item.\")\n",
    "    question = input('Do you want to add another product? (y/n)')\n",
    "    if question == 'y':\n",
    "        continue\n",
    "    elif question == 'n':\n",
    "        break\n",
    "    else:\n",
    "        print(\"please enter 'y' or 'n'\")\n",
    "        \n",
    "print(customer_orders)\n",
    "\n",
    "total_orders = len(customer_orders)\n",
    "total_stock_list = list(inventory.values())\n",
    "percentage_orders = total_orders/sum(total_stock_list)\n",
    "order_status = (total_orders, percentage_orders)\n",
    "\n",
    "\n",
    "print(f\"Order Statistics:\\nTotal Products Ordered: {order_status[0]}\\nPercentage of Products Ordered: {order_status[1]:.0%}\")\n",
    "\n",
    "# 1. + 3.\n",
    "for i in customer_orders:\n",
    "    inventory[i] = inventory[i] - 1\n",
    "    \n",
    "# 1.\n",
    "for key in inventory:\n",
    "    print(f\"The stock of {key} is {inventory[key]}\")"
   ]
  },
  {
   "cell_type": "code",
   "execution_count": null,
   "id": "1938c2b1-cb8e-4b53-8fd5-46991699ac99",
   "metadata": {},
   "outputs": [],
   "source": []
  }
 ],
 "metadata": {
  "kernelspec": {
   "display_name": "Python 3 (ipykernel)",
   "language": "python",
   "name": "python3"
  },
  "language_info": {
   "codemirror_mode": {
    "name": "ipython",
    "version": 3
   },
   "file_extension": ".py",
   "mimetype": "text/x-python",
   "name": "python",
   "nbconvert_exporter": "python",
   "pygments_lexer": "ipython3",
   "version": "3.9.17"
  }
 },
 "nbformat": 4,
 "nbformat_minor": 5
}
